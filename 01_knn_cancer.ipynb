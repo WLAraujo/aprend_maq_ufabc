{
  "nbformat": 4,
  "nbformat_minor": 0,
  "metadata": {
    "colab": {
      "name": "01_knn_cancer.ipynb",
      "provenance": [],
      "authorship_tag": "ABX9TyPiwlT+PeyfgA9ef4xkZD05"
    },
    "kernelspec": {
      "name": "ir",
      "display_name": "R"
    },
    "language_info": {
      "name": "R"
    }
  },
  "cells": [
    {
      "cell_type": "markdown",
      "source": [
        "# Diagnóstico de câncer de mama com knn\n",
        "\n",
        "Projeto dirigido da disciplina de Aprendizado de Máquina baseado no projeto dirigido do capítulo 3 do livro *Machine Learning* do Lantz (2013).\n",
        "\n",
        "O projeto consiste no uso do algoritmo knn para desenvolver um modelo para detecção de câncer usando dados de biópsias de células de mulheres com massas não normais nos seios.\n",
        "\n",
        "A ideia é construir um classificador que indique se o cancer é benigno (B) ou maligno (M). Ao todo temos 32 campos de dados sobre diferentes tumores.\n",
        "\n"
      ],
      "metadata": {
        "id": "ZIU9J2ESQOXz"
      }
    },
    {
      "cell_type": "markdown",
      "source": [
        "## 1 - Importando os dados e a biblioteca dplyr"
      ],
      "metadata": {
        "id": "DNk-trsVRXhV"
      }
    },
    {
      "cell_type": "code",
      "execution_count": 17,
      "metadata": {
        "id": "o8Iyb2OdP0pD"
      },
      "outputs": [],
      "source": [
        "# Importando o dataset\n",
        "dataset_cancer <- read.csv(\"breast-cancer-wisconsin.data\",\n",
        "                           header = F)"
      ]
    },
    {
      "cell_type": "code",
      "source": [
        "# Importando a dplyr\n",
        "# Lembrando que a dplyr é a principal biblioteca do tidyverse para manipulação de dados\n",
        "library(dplyr)"
      ],
      "metadata": {
        "id": "AmqxOpJYS60c"
      },
      "execution_count": 18,
      "outputs": []
    },
    {
      "cell_type": "markdown",
      "source": [
        "## 2 - Primeiras visualizações e tratamentos do dataset"
      ],
      "metadata": {
        "id": "OsxzLVlqTQQN"
      }
    },
    {
      "cell_type": "code",
      "source": [
        "# Vetor com o nome das colunas\n",
        "colunas <- c(\"ID\", \"diagnosis\", \"mean radius\", \"mean texture\", \"mean perimeter\", \"mean area\",\n",
        "             \"mean smoothness\", \"mean compactness\", \"mean concavity\", \"mean concave points\",\n",
        "             \"mean symmetry\", \"mean fractal dimension\", \"radius SE\", \"texture SE\", \n",
        "             \"perimeter SE\", \"area SE\", \"smoothness SE\", \"compactness SE\", \"concavity SE\",\n",
        "             \"concave points SE\", \"symmetry SE\", \"fractal dimension SE\", \"worst radius\",\n",
        "             \"worst texture\", \"worst perimeter\", \"worst area\", \"worst smoothness\",\n",
        "             \"worst compactness\", \"worst concavity\", \"worst concave points\", \"worst symmetry\",\n",
        "             \"worst fractal dimension\")"
      ],
      "metadata": {
        "id": "qbO_kBMIRxH5"
      },
      "execution_count": 4,
      "outputs": []
    },
    {
      "cell_type": "code",
      "source": [
        "# Nomeando as colunas do dataset\n",
        "names(dataset_cancer) <- colunas\n",
        "head(dataset_cancer)"
      ],
      "metadata": {
        "colab": {
          "base_uri": "https://localhost:8080/",
          "height": 341
        },
        "id": "GK14n3HSSCY5",
        "outputId": "e33aa229-92fc-42c3-c72c-b89fb04c3e9e"
      },
      "execution_count": 19,
      "outputs": [
        {
          "output_type": "display_data",
          "data": {
            "text/html": [
              "<table class=\"dataframe\">\n",
              "<caption>A data.frame: 6 × 32</caption>\n",
              "<thead>\n",
              "\t<tr><th></th><th scope=col>ID</th><th scope=col>diagnosis</th><th scope=col>mean radius</th><th scope=col>mean texture</th><th scope=col>mean perimeter</th><th scope=col>mean area</th><th scope=col>mean smoothness</th><th scope=col>mean compactness</th><th scope=col>mean concavity</th><th scope=col>mean concave points</th><th scope=col>⋯</th><th scope=col>worst radius</th><th scope=col>worst texture</th><th scope=col>worst perimeter</th><th scope=col>worst area</th><th scope=col>worst smoothness</th><th scope=col>worst compactness</th><th scope=col>worst concavity</th><th scope=col>worst concave points</th><th scope=col>worst symmetry</th><th scope=col>worst fractal dimension</th></tr>\n",
              "\t<tr><th></th><th scope=col>&lt;int&gt;</th><th scope=col>&lt;chr&gt;</th><th scope=col>&lt;dbl&gt;</th><th scope=col>&lt;dbl&gt;</th><th scope=col>&lt;dbl&gt;</th><th scope=col>&lt;dbl&gt;</th><th scope=col>&lt;dbl&gt;</th><th scope=col>&lt;dbl&gt;</th><th scope=col>&lt;dbl&gt;</th><th scope=col>&lt;dbl&gt;</th><th scope=col>⋯</th><th scope=col>&lt;dbl&gt;</th><th scope=col>&lt;dbl&gt;</th><th scope=col>&lt;dbl&gt;</th><th scope=col>&lt;dbl&gt;</th><th scope=col>&lt;dbl&gt;</th><th scope=col>&lt;dbl&gt;</th><th scope=col>&lt;dbl&gt;</th><th scope=col>&lt;dbl&gt;</th><th scope=col>&lt;dbl&gt;</th><th scope=col>&lt;dbl&gt;</th></tr>\n",
              "</thead>\n",
              "<tbody>\n",
              "\t<tr><th scope=row>1</th><td>  842302</td><td>M</td><td>17.99</td><td>10.38</td><td>122.80</td><td>1001.0</td><td>0.11840</td><td>0.27760</td><td>0.3001</td><td>0.14710</td><td>⋯</td><td>25.38</td><td>17.33</td><td>184.60</td><td>2019.0</td><td>0.1622</td><td>0.6656</td><td>0.7119</td><td>0.2654</td><td>0.4601</td><td>0.11890</td></tr>\n",
              "\t<tr><th scope=row>2</th><td>  842517</td><td>M</td><td>20.57</td><td>17.77</td><td>132.90</td><td>1326.0</td><td>0.08474</td><td>0.07864</td><td>0.0869</td><td>0.07017</td><td>⋯</td><td>24.99</td><td>23.41</td><td>158.80</td><td>1956.0</td><td>0.1238</td><td>0.1866</td><td>0.2416</td><td>0.1860</td><td>0.2750</td><td>0.08902</td></tr>\n",
              "\t<tr><th scope=row>3</th><td>84300903</td><td>M</td><td>19.69</td><td>21.25</td><td>130.00</td><td>1203.0</td><td>0.10960</td><td>0.15990</td><td>0.1974</td><td>0.12790</td><td>⋯</td><td>23.57</td><td>25.53</td><td>152.50</td><td>1709.0</td><td>0.1444</td><td>0.4245</td><td>0.4504</td><td>0.2430</td><td>0.3613</td><td>0.08758</td></tr>\n",
              "\t<tr><th scope=row>4</th><td>84348301</td><td>M</td><td>11.42</td><td>20.38</td><td> 77.58</td><td> 386.1</td><td>0.14250</td><td>0.28390</td><td>0.2414</td><td>0.10520</td><td>⋯</td><td>14.91</td><td>26.50</td><td> 98.87</td><td> 567.7</td><td>0.2098</td><td>0.8663</td><td>0.6869</td><td>0.2575</td><td>0.6638</td><td>0.17300</td></tr>\n",
              "\t<tr><th scope=row>5</th><td>84358402</td><td>M</td><td>20.29</td><td>14.34</td><td>135.10</td><td>1297.0</td><td>0.10030</td><td>0.13280</td><td>0.1980</td><td>0.10430</td><td>⋯</td><td>22.54</td><td>16.67</td><td>152.20</td><td>1575.0</td><td>0.1374</td><td>0.2050</td><td>0.4000</td><td>0.1625</td><td>0.2364</td><td>0.07678</td></tr>\n",
              "\t<tr><th scope=row>6</th><td>  843786</td><td>M</td><td>12.45</td><td>15.70</td><td> 82.57</td><td> 477.1</td><td>0.12780</td><td>0.17000</td><td>0.1578</td><td>0.08089</td><td>⋯</td><td>15.47</td><td>23.75</td><td>103.40</td><td> 741.6</td><td>0.1791</td><td>0.5249</td><td>0.5355</td><td>0.1741</td><td>0.3985</td><td>0.12440</td></tr>\n",
              "</tbody>\n",
              "</table>\n"
            ],
            "text/markdown": "\nA data.frame: 6 × 32\n\n| <!--/--> | ID &lt;int&gt; | diagnosis &lt;chr&gt; | mean radius &lt;dbl&gt; | mean texture &lt;dbl&gt; | mean perimeter &lt;dbl&gt; | mean area &lt;dbl&gt; | mean smoothness &lt;dbl&gt; | mean compactness &lt;dbl&gt; | mean concavity &lt;dbl&gt; | mean concave points &lt;dbl&gt; | ⋯ ⋯ | worst radius &lt;dbl&gt; | worst texture &lt;dbl&gt; | worst perimeter &lt;dbl&gt; | worst area &lt;dbl&gt; | worst smoothness &lt;dbl&gt; | worst compactness &lt;dbl&gt; | worst concavity &lt;dbl&gt; | worst concave points &lt;dbl&gt; | worst symmetry &lt;dbl&gt; | worst fractal dimension &lt;dbl&gt; |\n|---|---|---|---|---|---|---|---|---|---|---|---|---|---|---|---|---|---|---|---|---|---|\n| 1 |   842302 | M | 17.99 | 10.38 | 122.80 | 1001.0 | 0.11840 | 0.27760 | 0.3001 | 0.14710 | ⋯ | 25.38 | 17.33 | 184.60 | 2019.0 | 0.1622 | 0.6656 | 0.7119 | 0.2654 | 0.4601 | 0.11890 |\n| 2 |   842517 | M | 20.57 | 17.77 | 132.90 | 1326.0 | 0.08474 | 0.07864 | 0.0869 | 0.07017 | ⋯ | 24.99 | 23.41 | 158.80 | 1956.0 | 0.1238 | 0.1866 | 0.2416 | 0.1860 | 0.2750 | 0.08902 |\n| 3 | 84300903 | M | 19.69 | 21.25 | 130.00 | 1203.0 | 0.10960 | 0.15990 | 0.1974 | 0.12790 | ⋯ | 23.57 | 25.53 | 152.50 | 1709.0 | 0.1444 | 0.4245 | 0.4504 | 0.2430 | 0.3613 | 0.08758 |\n| 4 | 84348301 | M | 11.42 | 20.38 |  77.58 |  386.1 | 0.14250 | 0.28390 | 0.2414 | 0.10520 | ⋯ | 14.91 | 26.50 |  98.87 |  567.7 | 0.2098 | 0.8663 | 0.6869 | 0.2575 | 0.6638 | 0.17300 |\n| 5 | 84358402 | M | 20.29 | 14.34 | 135.10 | 1297.0 | 0.10030 | 0.13280 | 0.1980 | 0.10430 | ⋯ | 22.54 | 16.67 | 152.20 | 1575.0 | 0.1374 | 0.2050 | 0.4000 | 0.1625 | 0.2364 | 0.07678 |\n| 6 |   843786 | M | 12.45 | 15.70 |  82.57 |  477.1 | 0.12780 | 0.17000 | 0.1578 | 0.08089 | ⋯ | 15.47 | 23.75 | 103.40 |  741.6 | 0.1791 | 0.5249 | 0.5355 | 0.1741 | 0.3985 | 0.12440 |\n\n",
            "text/latex": "A data.frame: 6 × 32\n\\begin{tabular}{r|lllllllllllllllllllll}\n  & ID & diagnosis & mean radius & mean texture & mean perimeter & mean area & mean smoothness & mean compactness & mean concavity & mean concave points & ⋯ & worst radius & worst texture & worst perimeter & worst area & worst smoothness & worst compactness & worst concavity & worst concave points & worst symmetry & worst fractal dimension\\\\\n  & <int> & <chr> & <dbl> & <dbl> & <dbl> & <dbl> & <dbl> & <dbl> & <dbl> & <dbl> & ⋯ & <dbl> & <dbl> & <dbl> & <dbl> & <dbl> & <dbl> & <dbl> & <dbl> & <dbl> & <dbl>\\\\\n\\hline\n\t1 &   842302 & M & 17.99 & 10.38 & 122.80 & 1001.0 & 0.11840 & 0.27760 & 0.3001 & 0.14710 & ⋯ & 25.38 & 17.33 & 184.60 & 2019.0 & 0.1622 & 0.6656 & 0.7119 & 0.2654 & 0.4601 & 0.11890\\\\\n\t2 &   842517 & M & 20.57 & 17.77 & 132.90 & 1326.0 & 0.08474 & 0.07864 & 0.0869 & 0.07017 & ⋯ & 24.99 & 23.41 & 158.80 & 1956.0 & 0.1238 & 0.1866 & 0.2416 & 0.1860 & 0.2750 & 0.08902\\\\\n\t3 & 84300903 & M & 19.69 & 21.25 & 130.00 & 1203.0 & 0.10960 & 0.15990 & 0.1974 & 0.12790 & ⋯ & 23.57 & 25.53 & 152.50 & 1709.0 & 0.1444 & 0.4245 & 0.4504 & 0.2430 & 0.3613 & 0.08758\\\\\n\t4 & 84348301 & M & 11.42 & 20.38 &  77.58 &  386.1 & 0.14250 & 0.28390 & 0.2414 & 0.10520 & ⋯ & 14.91 & 26.50 &  98.87 &  567.7 & 0.2098 & 0.8663 & 0.6869 & 0.2575 & 0.6638 & 0.17300\\\\\n\t5 & 84358402 & M & 20.29 & 14.34 & 135.10 & 1297.0 & 0.10030 & 0.13280 & 0.1980 & 0.10430 & ⋯ & 22.54 & 16.67 & 152.20 & 1575.0 & 0.1374 & 0.2050 & 0.4000 & 0.1625 & 0.2364 & 0.07678\\\\\n\t6 &   843786 & M & 12.45 & 15.70 &  82.57 &  477.1 & 0.12780 & 0.17000 & 0.1578 & 0.08089 & ⋯ & 15.47 & 23.75 & 103.40 &  741.6 & 0.1791 & 0.5249 & 0.5355 & 0.1741 & 0.3985 & 0.12440\\\\\n\\end{tabular}\n",
            "text/plain": [
              "  ID       diagnosis mean radius mean texture mean perimeter mean area\n",
              "1   842302 M         17.99       10.38        122.80         1001.0   \n",
              "2   842517 M         20.57       17.77        132.90         1326.0   \n",
              "3 84300903 M         19.69       21.25        130.00         1203.0   \n",
              "4 84348301 M         11.42       20.38         77.58          386.1   \n",
              "5 84358402 M         20.29       14.34        135.10         1297.0   \n",
              "6   843786 M         12.45       15.70         82.57          477.1   \n",
              "  mean smoothness mean compactness mean concavity mean concave points ⋯\n",
              "1 0.11840         0.27760          0.3001         0.14710             ⋯\n",
              "2 0.08474         0.07864          0.0869         0.07017             ⋯\n",
              "3 0.10960         0.15990          0.1974         0.12790             ⋯\n",
              "4 0.14250         0.28390          0.2414         0.10520             ⋯\n",
              "5 0.10030         0.13280          0.1980         0.10430             ⋯\n",
              "6 0.12780         0.17000          0.1578         0.08089             ⋯\n",
              "  worst radius worst texture worst perimeter worst area worst smoothness\n",
              "1 25.38        17.33         184.60          2019.0     0.1622          \n",
              "2 24.99        23.41         158.80          1956.0     0.1238          \n",
              "3 23.57        25.53         152.50          1709.0     0.1444          \n",
              "4 14.91        26.50          98.87           567.7     0.2098          \n",
              "5 22.54        16.67         152.20          1575.0     0.1374          \n",
              "6 15.47        23.75         103.40           741.6     0.1791          \n",
              "  worst compactness worst concavity worst concave points worst symmetry\n",
              "1 0.6656            0.7119          0.2654               0.4601        \n",
              "2 0.1866            0.2416          0.1860               0.2750        \n",
              "3 0.4245            0.4504          0.2430               0.3613        \n",
              "4 0.8663            0.6869          0.2575               0.6638        \n",
              "5 0.2050            0.4000          0.1625               0.2364        \n",
              "6 0.5249            0.5355          0.1741               0.3985        \n",
              "  worst fractal dimension\n",
              "1 0.11890                \n",
              "2 0.08902                \n",
              "3 0.08758                \n",
              "4 0.17300                \n",
              "5 0.07678                \n",
              "6 0.12440                "
            ]
          },
          "metadata": {}
        }
      ]
    },
    {
      "cell_type": "code",
      "source": [
        "# Visualizando as dimensões do dataframe\n",
        "dim(dataset_cancer)"
      ],
      "metadata": {
        "colab": {
          "base_uri": "https://localhost:8080/",
          "height": 34
        },
        "id": "kYct1CXaT-_Q",
        "outputId": "9e8ccecc-8c6c-48f2-b95d-6b5c14a958d8"
      },
      "execution_count": 20,
      "outputs": [
        {
          "output_type": "display_data",
          "data": {
            "text/html": [
              "<style>\n",
              ".list-inline {list-style: none; margin:0; padding: 0}\n",
              ".list-inline>li {display: inline-block}\n",
              ".list-inline>li:not(:last-child)::after {content: \"\\00b7\"; padding: 0 .5ex}\n",
              "</style>\n",
              "<ol class=list-inline><li>569</li><li>32</li></ol>\n"
            ],
            "text/markdown": "1. 569\n2. 32\n\n\n",
            "text/latex": "\\begin{enumerate*}\n\\item 569\n\\item 32\n\\end{enumerate*}\n",
            "text/plain": [
              "[1] 569  32"
            ]
          },
          "metadata": {}
        }
      ]
    },
    {
      "cell_type": "code",
      "source": [
        "# Visualizando estrutura do dataset\n",
        "str(dataset_cancer)"
      ],
      "metadata": {
        "colab": {
          "base_uri": "https://localhost:8080/"
        },
        "id": "60wvZ3WsUFYN",
        "outputId": "3da1abbd-325f-4d92-d03e-fe5e66c1e5f4"
      },
      "execution_count": 21,
      "outputs": [
        {
          "output_type": "stream",
          "name": "stdout",
          "text": [
            "'data.frame':\t569 obs. of  32 variables:\n",
            " $ ID                     : int  842302 842517 84300903 84348301 84358402 843786 844359 84458202 844981 84501001 ...\n",
            " $ diagnosis              : chr  \"M\" \"M\" \"M\" \"M\" ...\n",
            " $ mean radius            : num  18 20.6 19.7 11.4 20.3 ...\n",
            " $ mean texture           : num  10.4 17.8 21.2 20.4 14.3 ...\n",
            " $ mean perimeter         : num  122.8 132.9 130 77.6 135.1 ...\n",
            " $ mean area              : num  1001 1326 1203 386 1297 ...\n",
            " $ mean smoothness        : num  0.1184 0.0847 0.1096 0.1425 0.1003 ...\n",
            " $ mean compactness       : num  0.2776 0.0786 0.1599 0.2839 0.1328 ...\n",
            " $ mean concavity         : num  0.3001 0.0869 0.1974 0.2414 0.198 ...\n",
            " $ mean concave points    : num  0.1471 0.0702 0.1279 0.1052 0.1043 ...\n",
            " $ mean symmetry          : num  0.242 0.181 0.207 0.26 0.181 ...\n",
            " $ mean fractal dimension : num  0.0787 0.0567 0.06 0.0974 0.0588 ...\n",
            " $ radius SE              : num  1.095 0.543 0.746 0.496 0.757 ...\n",
            " $ texture SE             : num  0.905 0.734 0.787 1.156 0.781 ...\n",
            " $ perimeter SE           : num  8.59 3.4 4.58 3.44 5.44 ...\n",
            " $ area SE                : num  153.4 74.1 94 27.2 94.4 ...\n",
            " $ smoothness SE          : num  0.0064 0.00522 0.00615 0.00911 0.01149 ...\n",
            " $ compactness SE         : num  0.049 0.0131 0.0401 0.0746 0.0246 ...\n",
            " $ concavity SE           : num  0.0537 0.0186 0.0383 0.0566 0.0569 ...\n",
            " $ concave points SE      : num  0.0159 0.0134 0.0206 0.0187 0.0188 ...\n",
            " $ symmetry SE            : num  0.03 0.0139 0.0225 0.0596 0.0176 ...\n",
            " $ fractal dimension SE   : num  0.00619 0.00353 0.00457 0.00921 0.00511 ...\n",
            " $ worst radius           : num  25.4 25 23.6 14.9 22.5 ...\n",
            " $ worst texture          : num  17.3 23.4 25.5 26.5 16.7 ...\n",
            " $ worst perimeter        : num  184.6 158.8 152.5 98.9 152.2 ...\n",
            " $ worst area             : num  2019 1956 1709 568 1575 ...\n",
            " $ worst smoothness       : num  0.162 0.124 0.144 0.21 0.137 ...\n",
            " $ worst compactness      : num  0.666 0.187 0.424 0.866 0.205 ...\n",
            " $ worst concavity        : num  0.712 0.242 0.45 0.687 0.4 ...\n",
            " $ worst concave points   : num  0.265 0.186 0.243 0.258 0.163 ...\n",
            " $ worst symmetry         : num  0.46 0.275 0.361 0.664 0.236 ...\n",
            " $ worst fractal dimension: num  0.1189 0.089 0.0876 0.173 0.0768 ...\n"
          ]
        }
      ]
    },
    {
      "cell_type": "code",
      "source": [
        "# Quantas amostras cada classe possui\n",
        "table(dataset_cancer$diagnosis)"
      ],
      "metadata": {
        "colab": {
          "base_uri": "https://localhost:8080/",
          "height": 69
        },
        "id": "KOk0xoteUMMb",
        "outputId": "b4cbebf0-59e8-4e9b-c88e-35d6c6d00e2e"
      },
      "execution_count": 22,
      "outputs": [
        {
          "output_type": "display_data",
          "data": {
            "text/plain": [
              "\n",
              "  B   M \n",
              "357 212 "
            ]
          },
          "metadata": {}
        }
      ]
    },
    {
      "cell_type": "code",
      "source": [
        "# Muitos algoritmos de classificação de machine learning em R exigem que a coluna\n",
        "# target esteja codificada através de factors, por isso vamos codificar a coluna \"diagnosis\"\n",
        "dataset_cancer$diagnosis <- factor(dataset_cancer$diagnosis, levels = c(\"B\", \"M\"),labels = c(\"Benigno\", \"Maligno\"))"
      ],
      "metadata": {
        "id": "72UPn76cU6vJ"
      },
      "execution_count": 23,
      "outputs": []
    },
    {
      "cell_type": "code",
      "source": [
        "# Dropando a coluna de id que é irrelevante para o algoritmo\n",
        "dataset_cancer <- dataset_cancer[-1]\n",
        "head(dataset_cancer)"
      ],
      "metadata": {
        "colab": {
          "base_uri": "https://localhost:8080/",
          "height": 341
        },
        "id": "RNEjxdSuVQRf",
        "outputId": "e0a59841-a006-4862-d22f-c0e47f20f5d0"
      },
      "execution_count": 25,
      "outputs": [
        {
          "output_type": "display_data",
          "data": {
            "text/html": [
              "<table class=\"dataframe\">\n",
              "<caption>A data.frame: 6 × 31</caption>\n",
              "<thead>\n",
              "\t<tr><th></th><th scope=col>diagnosis</th><th scope=col>mean radius</th><th scope=col>mean texture</th><th scope=col>mean perimeter</th><th scope=col>mean area</th><th scope=col>mean smoothness</th><th scope=col>mean compactness</th><th scope=col>mean concavity</th><th scope=col>mean concave points</th><th scope=col>mean symmetry</th><th scope=col>⋯</th><th scope=col>worst radius</th><th scope=col>worst texture</th><th scope=col>worst perimeter</th><th scope=col>worst area</th><th scope=col>worst smoothness</th><th scope=col>worst compactness</th><th scope=col>worst concavity</th><th scope=col>worst concave points</th><th scope=col>worst symmetry</th><th scope=col>worst fractal dimension</th></tr>\n",
              "\t<tr><th></th><th scope=col>&lt;fct&gt;</th><th scope=col>&lt;dbl&gt;</th><th scope=col>&lt;dbl&gt;</th><th scope=col>&lt;dbl&gt;</th><th scope=col>&lt;dbl&gt;</th><th scope=col>&lt;dbl&gt;</th><th scope=col>&lt;dbl&gt;</th><th scope=col>&lt;dbl&gt;</th><th scope=col>&lt;dbl&gt;</th><th scope=col>&lt;dbl&gt;</th><th scope=col>⋯</th><th scope=col>&lt;dbl&gt;</th><th scope=col>&lt;dbl&gt;</th><th scope=col>&lt;dbl&gt;</th><th scope=col>&lt;dbl&gt;</th><th scope=col>&lt;dbl&gt;</th><th scope=col>&lt;dbl&gt;</th><th scope=col>&lt;dbl&gt;</th><th scope=col>&lt;dbl&gt;</th><th scope=col>&lt;dbl&gt;</th><th scope=col>&lt;dbl&gt;</th></tr>\n",
              "</thead>\n",
              "<tbody>\n",
              "\t<tr><th scope=row>1</th><td>Maligno</td><td>17.99</td><td>10.38</td><td>122.80</td><td>1001.0</td><td>0.11840</td><td>0.27760</td><td>0.3001</td><td>0.14710</td><td>0.2419</td><td>⋯</td><td>25.38</td><td>17.33</td><td>184.60</td><td>2019.0</td><td>0.1622</td><td>0.6656</td><td>0.7119</td><td>0.2654</td><td>0.4601</td><td>0.11890</td></tr>\n",
              "\t<tr><th scope=row>2</th><td>Maligno</td><td>20.57</td><td>17.77</td><td>132.90</td><td>1326.0</td><td>0.08474</td><td>0.07864</td><td>0.0869</td><td>0.07017</td><td>0.1812</td><td>⋯</td><td>24.99</td><td>23.41</td><td>158.80</td><td>1956.0</td><td>0.1238</td><td>0.1866</td><td>0.2416</td><td>0.1860</td><td>0.2750</td><td>0.08902</td></tr>\n",
              "\t<tr><th scope=row>3</th><td>Maligno</td><td>19.69</td><td>21.25</td><td>130.00</td><td>1203.0</td><td>0.10960</td><td>0.15990</td><td>0.1974</td><td>0.12790</td><td>0.2069</td><td>⋯</td><td>23.57</td><td>25.53</td><td>152.50</td><td>1709.0</td><td>0.1444</td><td>0.4245</td><td>0.4504</td><td>0.2430</td><td>0.3613</td><td>0.08758</td></tr>\n",
              "\t<tr><th scope=row>4</th><td>Maligno</td><td>11.42</td><td>20.38</td><td> 77.58</td><td> 386.1</td><td>0.14250</td><td>0.28390</td><td>0.2414</td><td>0.10520</td><td>0.2597</td><td>⋯</td><td>14.91</td><td>26.50</td><td> 98.87</td><td> 567.7</td><td>0.2098</td><td>0.8663</td><td>0.6869</td><td>0.2575</td><td>0.6638</td><td>0.17300</td></tr>\n",
              "\t<tr><th scope=row>5</th><td>Maligno</td><td>20.29</td><td>14.34</td><td>135.10</td><td>1297.0</td><td>0.10030</td><td>0.13280</td><td>0.1980</td><td>0.10430</td><td>0.1809</td><td>⋯</td><td>22.54</td><td>16.67</td><td>152.20</td><td>1575.0</td><td>0.1374</td><td>0.2050</td><td>0.4000</td><td>0.1625</td><td>0.2364</td><td>0.07678</td></tr>\n",
              "\t<tr><th scope=row>6</th><td>Maligno</td><td>12.45</td><td>15.70</td><td> 82.57</td><td> 477.1</td><td>0.12780</td><td>0.17000</td><td>0.1578</td><td>0.08089</td><td>0.2087</td><td>⋯</td><td>15.47</td><td>23.75</td><td>103.40</td><td> 741.6</td><td>0.1791</td><td>0.5249</td><td>0.5355</td><td>0.1741</td><td>0.3985</td><td>0.12440</td></tr>\n",
              "</tbody>\n",
              "</table>\n"
            ],
            "text/markdown": "\nA data.frame: 6 × 31\n\n| <!--/--> | diagnosis &lt;fct&gt; | mean radius &lt;dbl&gt; | mean texture &lt;dbl&gt; | mean perimeter &lt;dbl&gt; | mean area &lt;dbl&gt; | mean smoothness &lt;dbl&gt; | mean compactness &lt;dbl&gt; | mean concavity &lt;dbl&gt; | mean concave points &lt;dbl&gt; | mean symmetry &lt;dbl&gt; | ⋯ ⋯ | worst radius &lt;dbl&gt; | worst texture &lt;dbl&gt; | worst perimeter &lt;dbl&gt; | worst area &lt;dbl&gt; | worst smoothness &lt;dbl&gt; | worst compactness &lt;dbl&gt; | worst concavity &lt;dbl&gt; | worst concave points &lt;dbl&gt; | worst symmetry &lt;dbl&gt; | worst fractal dimension &lt;dbl&gt; |\n|---|---|---|---|---|---|---|---|---|---|---|---|---|---|---|---|---|---|---|---|---|---|\n| 1 | Maligno | 17.99 | 10.38 | 122.80 | 1001.0 | 0.11840 | 0.27760 | 0.3001 | 0.14710 | 0.2419 | ⋯ | 25.38 | 17.33 | 184.60 | 2019.0 | 0.1622 | 0.6656 | 0.7119 | 0.2654 | 0.4601 | 0.11890 |\n| 2 | Maligno | 20.57 | 17.77 | 132.90 | 1326.0 | 0.08474 | 0.07864 | 0.0869 | 0.07017 | 0.1812 | ⋯ | 24.99 | 23.41 | 158.80 | 1956.0 | 0.1238 | 0.1866 | 0.2416 | 0.1860 | 0.2750 | 0.08902 |\n| 3 | Maligno | 19.69 | 21.25 | 130.00 | 1203.0 | 0.10960 | 0.15990 | 0.1974 | 0.12790 | 0.2069 | ⋯ | 23.57 | 25.53 | 152.50 | 1709.0 | 0.1444 | 0.4245 | 0.4504 | 0.2430 | 0.3613 | 0.08758 |\n| 4 | Maligno | 11.42 | 20.38 |  77.58 |  386.1 | 0.14250 | 0.28390 | 0.2414 | 0.10520 | 0.2597 | ⋯ | 14.91 | 26.50 |  98.87 |  567.7 | 0.2098 | 0.8663 | 0.6869 | 0.2575 | 0.6638 | 0.17300 |\n| 5 | Maligno | 20.29 | 14.34 | 135.10 | 1297.0 | 0.10030 | 0.13280 | 0.1980 | 0.10430 | 0.1809 | ⋯ | 22.54 | 16.67 | 152.20 | 1575.0 | 0.1374 | 0.2050 | 0.4000 | 0.1625 | 0.2364 | 0.07678 |\n| 6 | Maligno | 12.45 | 15.70 |  82.57 |  477.1 | 0.12780 | 0.17000 | 0.1578 | 0.08089 | 0.2087 | ⋯ | 15.47 | 23.75 | 103.40 |  741.6 | 0.1791 | 0.5249 | 0.5355 | 0.1741 | 0.3985 | 0.12440 |\n\n",
            "text/latex": "A data.frame: 6 × 31\n\\begin{tabular}{r|lllllllllllllllllllll}\n  & diagnosis & mean radius & mean texture & mean perimeter & mean area & mean smoothness & mean compactness & mean concavity & mean concave points & mean symmetry & ⋯ & worst radius & worst texture & worst perimeter & worst area & worst smoothness & worst compactness & worst concavity & worst concave points & worst symmetry & worst fractal dimension\\\\\n  & <fct> & <dbl> & <dbl> & <dbl> & <dbl> & <dbl> & <dbl> & <dbl> & <dbl> & <dbl> & ⋯ & <dbl> & <dbl> & <dbl> & <dbl> & <dbl> & <dbl> & <dbl> & <dbl> & <dbl> & <dbl>\\\\\n\\hline\n\t1 & Maligno & 17.99 & 10.38 & 122.80 & 1001.0 & 0.11840 & 0.27760 & 0.3001 & 0.14710 & 0.2419 & ⋯ & 25.38 & 17.33 & 184.60 & 2019.0 & 0.1622 & 0.6656 & 0.7119 & 0.2654 & 0.4601 & 0.11890\\\\\n\t2 & Maligno & 20.57 & 17.77 & 132.90 & 1326.0 & 0.08474 & 0.07864 & 0.0869 & 0.07017 & 0.1812 & ⋯ & 24.99 & 23.41 & 158.80 & 1956.0 & 0.1238 & 0.1866 & 0.2416 & 0.1860 & 0.2750 & 0.08902\\\\\n\t3 & Maligno & 19.69 & 21.25 & 130.00 & 1203.0 & 0.10960 & 0.15990 & 0.1974 & 0.12790 & 0.2069 & ⋯ & 23.57 & 25.53 & 152.50 & 1709.0 & 0.1444 & 0.4245 & 0.4504 & 0.2430 & 0.3613 & 0.08758\\\\\n\t4 & Maligno & 11.42 & 20.38 &  77.58 &  386.1 & 0.14250 & 0.28390 & 0.2414 & 0.10520 & 0.2597 & ⋯ & 14.91 & 26.50 &  98.87 &  567.7 & 0.2098 & 0.8663 & 0.6869 & 0.2575 & 0.6638 & 0.17300\\\\\n\t5 & Maligno & 20.29 & 14.34 & 135.10 & 1297.0 & 0.10030 & 0.13280 & 0.1980 & 0.10430 & 0.1809 & ⋯ & 22.54 & 16.67 & 152.20 & 1575.0 & 0.1374 & 0.2050 & 0.4000 & 0.1625 & 0.2364 & 0.07678\\\\\n\t6 & Maligno & 12.45 & 15.70 &  82.57 &  477.1 & 0.12780 & 0.17000 & 0.1578 & 0.08089 & 0.2087 & ⋯ & 15.47 & 23.75 & 103.40 &  741.6 & 0.1791 & 0.5249 & 0.5355 & 0.1741 & 0.3985 & 0.12440\\\\\n\\end{tabular}\n",
            "text/plain": [
              "  diagnosis mean radius mean texture mean perimeter mean area mean smoothness\n",
              "1 Maligno   17.99       10.38        122.80         1001.0    0.11840        \n",
              "2 Maligno   20.57       17.77        132.90         1326.0    0.08474        \n",
              "3 Maligno   19.69       21.25        130.00         1203.0    0.10960        \n",
              "4 Maligno   11.42       20.38         77.58          386.1    0.14250        \n",
              "5 Maligno   20.29       14.34        135.10         1297.0    0.10030        \n",
              "6 Maligno   12.45       15.70         82.57          477.1    0.12780        \n",
              "  mean compactness mean concavity mean concave points mean symmetry ⋯\n",
              "1 0.27760          0.3001         0.14710             0.2419        ⋯\n",
              "2 0.07864          0.0869         0.07017             0.1812        ⋯\n",
              "3 0.15990          0.1974         0.12790             0.2069        ⋯\n",
              "4 0.28390          0.2414         0.10520             0.2597        ⋯\n",
              "5 0.13280          0.1980         0.10430             0.1809        ⋯\n",
              "6 0.17000          0.1578         0.08089             0.2087        ⋯\n",
              "  worst radius worst texture worst perimeter worst area worst smoothness\n",
              "1 25.38        17.33         184.60          2019.0     0.1622          \n",
              "2 24.99        23.41         158.80          1956.0     0.1238          \n",
              "3 23.57        25.53         152.50          1709.0     0.1444          \n",
              "4 14.91        26.50          98.87           567.7     0.2098          \n",
              "5 22.54        16.67         152.20          1575.0     0.1374          \n",
              "6 15.47        23.75         103.40           741.6     0.1791          \n",
              "  worst compactness worst concavity worst concave points worst symmetry\n",
              "1 0.6656            0.7119          0.2654               0.4601        \n",
              "2 0.1866            0.2416          0.1860               0.2750        \n",
              "3 0.4245            0.4504          0.2430               0.3613        \n",
              "4 0.8663            0.6869          0.2575               0.6638        \n",
              "5 0.2050            0.4000          0.1625               0.2364        \n",
              "6 0.5249            0.5355          0.1741               0.3985        \n",
              "  worst fractal dimension\n",
              "1 0.11890                \n",
              "2 0.08902                \n",
              "3 0.08758                \n",
              "4 0.17300                \n",
              "5 0.07678                \n",
              "6 0.12440                "
            ]
          },
          "metadata": {}
        }
      ]
    },
    {
      "cell_type": "markdown",
      "source": [
        "## 3 - Normalização das distâncias"
      ],
      "metadata": {
        "id": "CQMULhIqbzuD"
      }
    },
    {
      "cell_type": "markdown",
      "source": [
        "Tirando a coluna `diagnosis` todas as colunas são numéricas, logo, podemos aplicar a função `summary()` sobre elas."
      ],
      "metadata": {
        "id": "3LqzdrMFakB8"
      }
    },
    {
      "cell_type": "code",
      "source": [
        "# Aplicando a função summary sobre três colunas\n",
        "summary(dataset_cancer[c(\"mean radius\", \"mean texture\", \"mean perimeter\")])"
      ],
      "metadata": {
        "colab": {
          "base_uri": "https://localhost:8080/",
          "height": 139
        },
        "id": "sgLnuHaUajf2",
        "outputId": "78f86961-42ef-4dd0-81a8-ab0d359f1fa2"
      },
      "execution_count": 30,
      "outputs": [
        {
          "output_type": "display_data",
          "data": {
            "text/plain": [
              "  mean radius      mean texture   mean perimeter  \n",
              " Min.   : 6.981   Min.   : 9.71   Min.   : 43.79  \n",
              " 1st Qu.:11.700   1st Qu.:16.17   1st Qu.: 75.17  \n",
              " Median :13.370   Median :18.84   Median : 86.24  \n",
              " Mean   :14.127   Mean   :19.29   Mean   : 91.97  \n",
              " 3rd Qu.:15.780   3rd Qu.:21.80   3rd Qu.:104.10  \n",
              " Max.   :28.110   Max.   :39.28   Max.   :188.50  "
            ]
          },
          "metadata": {}
        }
      ]
    },
    {
      "cell_type": "markdown",
      "source": [
        "Veja que a escala de cada coluna é muito diferente uma da outra. Como o knn é muito dependente do cálculo de distâncias, aquelas colunas com maior range seriam muito mais influentes que as outras. Para resolver esse problema vamos normalizar as escalas de cada coluna."
      ],
      "metadata": {
        "id": "HPxBdUGsbKYl"
      }
    },
    {
      "cell_type": "code",
      "source": [
        "# Função de normalização de uma coluna\n",
        "norm <- function(col){\n",
        "  return ((col-min(col))/(max(col)-min(col)))\n",
        "}"
      ],
      "metadata": {
        "id": "39Aod_n2aiOt"
      },
      "execution_count": 31,
      "outputs": []
    },
    {
      "cell_type": "code",
      "source": [
        "# Aplicando normalização às colunas de features do dataset\n",
        "# Vamos usar o lapply que aplica a função para cada elemento da lista\n",
        "# Também usamos o as.data.frame para transformar as transformações em dataframe\n",
        "dataset_cancer_norm <- as.data.frame(lapply(dataset_cancer[2:31], norm))"
      ],
      "metadata": {
        "id": "shJ_ie20cP5l"
      },
      "execution_count": 33,
      "outputs": []
    },
    {
      "cell_type": "code",
      "source": [
        "# Visualizando dataset após normalização\n",
        "head(dataset_cancer_norm)"
      ],
      "metadata": {
        "colab": {
          "base_uri": "https://localhost:8080/",
          "height": 306
        },
        "id": "xky7Qxuvfgxo",
        "outputId": "58049339-8e78-4224-f695-fad4a3a4497c"
      },
      "execution_count": 34,
      "outputs": [
        {
          "output_type": "display_data",
          "data": {
            "text/html": [
              "<table class=\"dataframe\">\n",
              "<caption>A data.frame: 6 × 30</caption>\n",
              "<thead>\n",
              "\t<tr><th></th><th scope=col>mean.radius</th><th scope=col>mean.texture</th><th scope=col>mean.perimeter</th><th scope=col>mean.area</th><th scope=col>mean.smoothness</th><th scope=col>mean.compactness</th><th scope=col>mean.concavity</th><th scope=col>mean.concave.points</th><th scope=col>mean.symmetry</th><th scope=col>mean.fractal.dimension</th><th scope=col>⋯</th><th scope=col>worst.radius</th><th scope=col>worst.texture</th><th scope=col>worst.perimeter</th><th scope=col>worst.area</th><th scope=col>worst.smoothness</th><th scope=col>worst.compactness</th><th scope=col>worst.concavity</th><th scope=col>worst.concave.points</th><th scope=col>worst.symmetry</th><th scope=col>worst.fractal.dimension</th></tr>\n",
              "\t<tr><th></th><th scope=col>&lt;dbl&gt;</th><th scope=col>&lt;dbl&gt;</th><th scope=col>&lt;dbl&gt;</th><th scope=col>&lt;dbl&gt;</th><th scope=col>&lt;dbl&gt;</th><th scope=col>&lt;dbl&gt;</th><th scope=col>&lt;dbl&gt;</th><th scope=col>&lt;dbl&gt;</th><th scope=col>&lt;dbl&gt;</th><th scope=col>&lt;dbl&gt;</th><th scope=col>⋯</th><th scope=col>&lt;dbl&gt;</th><th scope=col>&lt;dbl&gt;</th><th scope=col>&lt;dbl&gt;</th><th scope=col>&lt;dbl&gt;</th><th scope=col>&lt;dbl&gt;</th><th scope=col>&lt;dbl&gt;</th><th scope=col>&lt;dbl&gt;</th><th scope=col>&lt;dbl&gt;</th><th scope=col>&lt;dbl&gt;</th><th scope=col>&lt;dbl&gt;</th></tr>\n",
              "</thead>\n",
              "<tbody>\n",
              "\t<tr><th scope=row>1</th><td>0.5210374</td><td>0.0226581</td><td>0.5459885</td><td>0.3637328</td><td>0.5937528</td><td>0.7920373</td><td>0.7031396</td><td>0.7311133</td><td>0.6863636</td><td>0.6055181</td><td>⋯</td><td>0.6207755</td><td>0.1415245</td><td>0.6683102</td><td>0.45069799</td><td>0.6011358</td><td>0.6192916</td><td>0.5686102</td><td>0.9120275</td><td>0.5984624</td><td>0.4188640</td></tr>\n",
              "\t<tr><th scope=row>2</th><td>0.6431445</td><td>0.2725736</td><td>0.6157833</td><td>0.5015907</td><td>0.2898799</td><td>0.1817680</td><td>0.2036082</td><td>0.3487575</td><td>0.3797980</td><td>0.1413227</td><td>⋯</td><td>0.6069015</td><td>0.3035714</td><td>0.5398177</td><td>0.43521431</td><td>0.3475533</td><td>0.1545634</td><td>0.1929712</td><td>0.6391753</td><td>0.2335896</td><td>0.2228781</td></tr>\n",
              "\t<tr><th scope=row>3</th><td>0.6014956</td><td>0.3902604</td><td>0.5957432</td><td>0.4494168</td><td>0.5143089</td><td>0.4310165</td><td>0.4625117</td><td>0.6356859</td><td>0.5095960</td><td>0.2112468</td><td>⋯</td><td>0.5563856</td><td>0.3600746</td><td>0.5084417</td><td>0.37450845</td><td>0.4835898</td><td>0.3853751</td><td>0.3597444</td><td>0.8350515</td><td>0.4037059</td><td>0.2134330</td></tr>\n",
              "\t<tr><th scope=row>4</th><td>0.2100904</td><td>0.3608387</td><td>0.2335015</td><td>0.1029056</td><td>0.8113208</td><td>0.8113613</td><td>0.5656045</td><td>0.5228628</td><td>0.7762626</td><td>1.0000000</td><td>⋯</td><td>0.2483102</td><td>0.3859275</td><td>0.2413467</td><td>0.09400806</td><td>0.9154725</td><td>0.8140117</td><td>0.5486422</td><td>0.8848797</td><td>1.0000000</td><td>0.7737111</td></tr>\n",
              "\t<tr><th scope=row>5</th><td>0.6298926</td><td>0.1565776</td><td>0.6309861</td><td>0.4892895</td><td>0.4303512</td><td>0.3478928</td><td>0.4639175</td><td>0.5183897</td><td>0.3782828</td><td>0.1868155</td><td>⋯</td><td>0.5197439</td><td>0.1239339</td><td>0.5069476</td><td>0.34157491</td><td>0.4373638</td><td>0.1724151</td><td>0.3194888</td><td>0.5584192</td><td>0.1575005</td><td>0.1425948</td></tr>\n",
              "\t<tr><th scope=row>6</th><td>0.2588386</td><td>0.2025702</td><td>0.2679842</td><td>0.1415058</td><td>0.6786133</td><td>0.4619962</td><td>0.3697282</td><td>0.4020378</td><td>0.5186869</td><td>0.5511794</td><td>⋯</td><td>0.2682319</td><td>0.3126333</td><td>0.2639076</td><td>0.13674794</td><td>0.7127386</td><td>0.4827837</td><td>0.4277157</td><td>0.5982818</td><td>0.4770353</td><td>0.4549390</td></tr>\n",
              "</tbody>\n",
              "</table>\n"
            ],
            "text/markdown": "\nA data.frame: 6 × 30\n\n| <!--/--> | mean.radius &lt;dbl&gt; | mean.texture &lt;dbl&gt; | mean.perimeter &lt;dbl&gt; | mean.area &lt;dbl&gt; | mean.smoothness &lt;dbl&gt; | mean.compactness &lt;dbl&gt; | mean.concavity &lt;dbl&gt; | mean.concave.points &lt;dbl&gt; | mean.symmetry &lt;dbl&gt; | mean.fractal.dimension &lt;dbl&gt; | ⋯ ⋯ | worst.radius &lt;dbl&gt; | worst.texture &lt;dbl&gt; | worst.perimeter &lt;dbl&gt; | worst.area &lt;dbl&gt; | worst.smoothness &lt;dbl&gt; | worst.compactness &lt;dbl&gt; | worst.concavity &lt;dbl&gt; | worst.concave.points &lt;dbl&gt; | worst.symmetry &lt;dbl&gt; | worst.fractal.dimension &lt;dbl&gt; |\n|---|---|---|---|---|---|---|---|---|---|---|---|---|---|---|---|---|---|---|---|---|---|\n| 1 | 0.5210374 | 0.0226581 | 0.5459885 | 0.3637328 | 0.5937528 | 0.7920373 | 0.7031396 | 0.7311133 | 0.6863636 | 0.6055181 | ⋯ | 0.6207755 | 0.1415245 | 0.6683102 | 0.45069799 | 0.6011358 | 0.6192916 | 0.5686102 | 0.9120275 | 0.5984624 | 0.4188640 |\n| 2 | 0.6431445 | 0.2725736 | 0.6157833 | 0.5015907 | 0.2898799 | 0.1817680 | 0.2036082 | 0.3487575 | 0.3797980 | 0.1413227 | ⋯ | 0.6069015 | 0.3035714 | 0.5398177 | 0.43521431 | 0.3475533 | 0.1545634 | 0.1929712 | 0.6391753 | 0.2335896 | 0.2228781 |\n| 3 | 0.6014956 | 0.3902604 | 0.5957432 | 0.4494168 | 0.5143089 | 0.4310165 | 0.4625117 | 0.6356859 | 0.5095960 | 0.2112468 | ⋯ | 0.5563856 | 0.3600746 | 0.5084417 | 0.37450845 | 0.4835898 | 0.3853751 | 0.3597444 | 0.8350515 | 0.4037059 | 0.2134330 |\n| 4 | 0.2100904 | 0.3608387 | 0.2335015 | 0.1029056 | 0.8113208 | 0.8113613 | 0.5656045 | 0.5228628 | 0.7762626 | 1.0000000 | ⋯ | 0.2483102 | 0.3859275 | 0.2413467 | 0.09400806 | 0.9154725 | 0.8140117 | 0.5486422 | 0.8848797 | 1.0000000 | 0.7737111 |\n| 5 | 0.6298926 | 0.1565776 | 0.6309861 | 0.4892895 | 0.4303512 | 0.3478928 | 0.4639175 | 0.5183897 | 0.3782828 | 0.1868155 | ⋯ | 0.5197439 | 0.1239339 | 0.5069476 | 0.34157491 | 0.4373638 | 0.1724151 | 0.3194888 | 0.5584192 | 0.1575005 | 0.1425948 |\n| 6 | 0.2588386 | 0.2025702 | 0.2679842 | 0.1415058 | 0.6786133 | 0.4619962 | 0.3697282 | 0.4020378 | 0.5186869 | 0.5511794 | ⋯ | 0.2682319 | 0.3126333 | 0.2639076 | 0.13674794 | 0.7127386 | 0.4827837 | 0.4277157 | 0.5982818 | 0.4770353 | 0.4549390 |\n\n",
            "text/latex": "A data.frame: 6 × 30\n\\begin{tabular}{r|lllllllllllllllllllll}\n  & mean.radius & mean.texture & mean.perimeter & mean.area & mean.smoothness & mean.compactness & mean.concavity & mean.concave.points & mean.symmetry & mean.fractal.dimension & ⋯ & worst.radius & worst.texture & worst.perimeter & worst.area & worst.smoothness & worst.compactness & worst.concavity & worst.concave.points & worst.symmetry & worst.fractal.dimension\\\\\n  & <dbl> & <dbl> & <dbl> & <dbl> & <dbl> & <dbl> & <dbl> & <dbl> & <dbl> & <dbl> & ⋯ & <dbl> & <dbl> & <dbl> & <dbl> & <dbl> & <dbl> & <dbl> & <dbl> & <dbl> & <dbl>\\\\\n\\hline\n\t1 & 0.5210374 & 0.0226581 & 0.5459885 & 0.3637328 & 0.5937528 & 0.7920373 & 0.7031396 & 0.7311133 & 0.6863636 & 0.6055181 & ⋯ & 0.6207755 & 0.1415245 & 0.6683102 & 0.45069799 & 0.6011358 & 0.6192916 & 0.5686102 & 0.9120275 & 0.5984624 & 0.4188640\\\\\n\t2 & 0.6431445 & 0.2725736 & 0.6157833 & 0.5015907 & 0.2898799 & 0.1817680 & 0.2036082 & 0.3487575 & 0.3797980 & 0.1413227 & ⋯ & 0.6069015 & 0.3035714 & 0.5398177 & 0.43521431 & 0.3475533 & 0.1545634 & 0.1929712 & 0.6391753 & 0.2335896 & 0.2228781\\\\\n\t3 & 0.6014956 & 0.3902604 & 0.5957432 & 0.4494168 & 0.5143089 & 0.4310165 & 0.4625117 & 0.6356859 & 0.5095960 & 0.2112468 & ⋯ & 0.5563856 & 0.3600746 & 0.5084417 & 0.37450845 & 0.4835898 & 0.3853751 & 0.3597444 & 0.8350515 & 0.4037059 & 0.2134330\\\\\n\t4 & 0.2100904 & 0.3608387 & 0.2335015 & 0.1029056 & 0.8113208 & 0.8113613 & 0.5656045 & 0.5228628 & 0.7762626 & 1.0000000 & ⋯ & 0.2483102 & 0.3859275 & 0.2413467 & 0.09400806 & 0.9154725 & 0.8140117 & 0.5486422 & 0.8848797 & 1.0000000 & 0.7737111\\\\\n\t5 & 0.6298926 & 0.1565776 & 0.6309861 & 0.4892895 & 0.4303512 & 0.3478928 & 0.4639175 & 0.5183897 & 0.3782828 & 0.1868155 & ⋯ & 0.5197439 & 0.1239339 & 0.5069476 & 0.34157491 & 0.4373638 & 0.1724151 & 0.3194888 & 0.5584192 & 0.1575005 & 0.1425948\\\\\n\t6 & 0.2588386 & 0.2025702 & 0.2679842 & 0.1415058 & 0.6786133 & 0.4619962 & 0.3697282 & 0.4020378 & 0.5186869 & 0.5511794 & ⋯ & 0.2682319 & 0.3126333 & 0.2639076 & 0.13674794 & 0.7127386 & 0.4827837 & 0.4277157 & 0.5982818 & 0.4770353 & 0.4549390\\\\\n\\end{tabular}\n",
            "text/plain": [
              "  mean.radius mean.texture mean.perimeter mean.area mean.smoothness\n",
              "1 0.5210374   0.0226581    0.5459885      0.3637328 0.5937528      \n",
              "2 0.6431445   0.2725736    0.6157833      0.5015907 0.2898799      \n",
              "3 0.6014956   0.3902604    0.5957432      0.4494168 0.5143089      \n",
              "4 0.2100904   0.3608387    0.2335015      0.1029056 0.8113208      \n",
              "5 0.6298926   0.1565776    0.6309861      0.4892895 0.4303512      \n",
              "6 0.2588386   0.2025702    0.2679842      0.1415058 0.6786133      \n",
              "  mean.compactness mean.concavity mean.concave.points mean.symmetry\n",
              "1 0.7920373        0.7031396      0.7311133           0.6863636    \n",
              "2 0.1817680        0.2036082      0.3487575           0.3797980    \n",
              "3 0.4310165        0.4625117      0.6356859           0.5095960    \n",
              "4 0.8113613        0.5656045      0.5228628           0.7762626    \n",
              "5 0.3478928        0.4639175      0.5183897           0.3782828    \n",
              "6 0.4619962        0.3697282      0.4020378           0.5186869    \n",
              "  mean.fractal.dimension ⋯ worst.radius worst.texture worst.perimeter\n",
              "1 0.6055181              ⋯ 0.6207755    0.1415245     0.6683102      \n",
              "2 0.1413227              ⋯ 0.6069015    0.3035714     0.5398177      \n",
              "3 0.2112468              ⋯ 0.5563856    0.3600746     0.5084417      \n",
              "4 1.0000000              ⋯ 0.2483102    0.3859275     0.2413467      \n",
              "5 0.1868155              ⋯ 0.5197439    0.1239339     0.5069476      \n",
              "6 0.5511794              ⋯ 0.2682319    0.3126333     0.2639076      \n",
              "  worst.area worst.smoothness worst.compactness worst.concavity\n",
              "1 0.45069799 0.6011358        0.6192916         0.5686102      \n",
              "2 0.43521431 0.3475533        0.1545634         0.1929712      \n",
              "3 0.37450845 0.4835898        0.3853751         0.3597444      \n",
              "4 0.09400806 0.9154725        0.8140117         0.5486422      \n",
              "5 0.34157491 0.4373638        0.1724151         0.3194888      \n",
              "6 0.13674794 0.7127386        0.4827837         0.4277157      \n",
              "  worst.concave.points worst.symmetry worst.fractal.dimension\n",
              "1 0.9120275            0.5984624      0.4188640              \n",
              "2 0.6391753            0.2335896      0.2228781              \n",
              "3 0.8350515            0.4037059      0.2134330              \n",
              "4 0.8848797            1.0000000      0.7737111              \n",
              "5 0.5584192            0.1575005      0.1425948              \n",
              "6 0.5982818            0.4770353      0.4549390              "
            ]
          },
          "metadata": {}
        }
      ]
    },
    {
      "cell_type": "code",
      "source": [
        "# Verificando se a normalização funcionou\n",
        "summary(dataset_cancer_norm)"
      ],
      "metadata": {
        "colab": {
          "base_uri": "https://localhost:8080/",
          "height": 990
        },
        "id": "pIkF9j82fjWc",
        "outputId": "0976f990-9ab9-4f29-89c6-d1a5875104ca"
      },
      "execution_count": 35,
      "outputs": [
        {
          "output_type": "display_data",
          "data": {
            "text/plain": [
              "  mean.radius      mean.texture    mean.perimeter     mean.area     \n",
              " Min.   :0.0000   Min.   :0.0000   Min.   :0.0000   Min.   :0.0000  \n",
              " 1st Qu.:0.2233   1st Qu.:0.2185   1st Qu.:0.2168   1st Qu.:0.1174  \n",
              " Median :0.3024   Median :0.3088   Median :0.2933   Median :0.1729  \n",
              " Mean   :0.3382   Mean   :0.3240   Mean   :0.3329   Mean   :0.2169  \n",
              " 3rd Qu.:0.4164   3rd Qu.:0.4089   3rd Qu.:0.4168   3rd Qu.:0.2711  \n",
              " Max.   :1.0000   Max.   :1.0000   Max.   :1.0000   Max.   :1.0000  \n",
              " mean.smoothness  mean.compactness mean.concavity    mean.concave.points\n",
              " Min.   :0.0000   Min.   :0.0000   Min.   :0.00000   Min.   :0.0000     \n",
              " 1st Qu.:0.3046   1st Qu.:0.1397   1st Qu.:0.06926   1st Qu.:0.1009     \n",
              " Median :0.3904   Median :0.2247   Median :0.14419   Median :0.1665     \n",
              " Mean   :0.3948   Mean   :0.2606   Mean   :0.20806   Mean   :0.2431     \n",
              " 3rd Qu.:0.4755   3rd Qu.:0.3405   3rd Qu.:0.30623   3rd Qu.:0.3678     \n",
              " Max.   :1.0000   Max.   :1.0000   Max.   :1.00000   Max.   :1.0000     \n",
              " mean.symmetry    mean.fractal.dimension   radius.SE         texture.SE    \n",
              " Min.   :0.0000   Min.   :0.0000         Min.   :0.00000   Min.   :0.0000  \n",
              " 1st Qu.:0.2823   1st Qu.:0.1630         1st Qu.:0.04378   1st Qu.:0.1047  \n",
              " Median :0.3697   Median :0.2439         Median :0.07702   Median :0.1653  \n",
              " Mean   :0.3796   Mean   :0.2704         Mean   :0.10635   Mean   :0.1893  \n",
              " 3rd Qu.:0.4530   3rd Qu.:0.3404         3rd Qu.:0.13304   3rd Qu.:0.2462  \n",
              " Max.   :1.0000   Max.   :1.0000         Max.   :1.00000   Max.   :1.0000  \n",
              "  perimeter.SE        area.SE        smoothness.SE    compactness.SE   \n",
              " Min.   :0.00000   Min.   :0.00000   Min.   :0.0000   Min.   :0.00000  \n",
              " 1st Qu.:0.04000   1st Qu.:0.02064   1st Qu.:0.1175   1st Qu.:0.08132  \n",
              " Median :0.07209   Median :0.03311   Median :0.1586   Median :0.13667  \n",
              " Mean   :0.09938   Mean   :0.06264   Mean   :0.1811   Mean   :0.17444  \n",
              " 3rd Qu.:0.12251   3rd Qu.:0.07170   3rd Qu.:0.2187   3rd Qu.:0.22680  \n",
              " Max.   :1.00000   Max.   :1.00000   Max.   :1.0000   Max.   :1.00000  \n",
              "  concavity.SE     concave.points.SE  symmetry.SE     fractal.dimension.SE\n",
              " Min.   :0.00000   Min.   :0.0000    Min.   :0.0000   Min.   :0.00000     \n",
              " 1st Qu.:0.03811   1st Qu.:0.1447    1st Qu.:0.1024   1st Qu.:0.04675     \n",
              " Median :0.06538   Median :0.2070    Median :0.1526   Median :0.07919     \n",
              " Mean   :0.08054   Mean   :0.2235    Mean   :0.1781   Mean   :0.10019     \n",
              " 3rd Qu.:0.10619   3rd Qu.:0.2787    3rd Qu.:0.2195   3rd Qu.:0.12656     \n",
              " Max.   :1.00000   Max.   :1.0000    Max.   :1.0000   Max.   :1.00000     \n",
              "  worst.radius    worst.texture    worst.perimeter    worst.area     \n",
              " Min.   :0.0000   Min.   :0.0000   Min.   :0.0000   Min.   :0.00000  \n",
              " 1st Qu.:0.1807   1st Qu.:0.2415   1st Qu.:0.1678   1st Qu.:0.08113  \n",
              " Median :0.2504   Median :0.3569   Median :0.2353   Median :0.12321  \n",
              " Mean   :0.2967   Mean   :0.3640   Mean   :0.2831   Mean   :0.17091  \n",
              " 3rd Qu.:0.3863   3rd Qu.:0.4717   3rd Qu.:0.3735   3rd Qu.:0.22090  \n",
              " Max.   :1.0000   Max.   :1.0000   Max.   :1.0000   Max.   :1.00000  \n",
              " worst.smoothness worst.compactness worst.concavity   worst.concave.points\n",
              " Min.   :0.0000   Min.   :0.0000    Min.   :0.00000   Min.   :0.0000      \n",
              " 1st Qu.:0.3000   1st Qu.:0.1163    1st Qu.:0.09145   1st Qu.:0.2231      \n",
              " Median :0.3971   Median :0.1791    Median :0.18107   Median :0.3434      \n",
              " Mean   :0.4041   Mean   :0.2202    Mean   :0.21740   Mean   :0.3938      \n",
              " 3rd Qu.:0.4942   3rd Qu.:0.3025    3rd Qu.:0.30583   3rd Qu.:0.5546      \n",
              " Max.   :1.0000   Max.   :1.0000    Max.   :1.00000   Max.   :1.0000      \n",
              " worst.symmetry   worst.fractal.dimension\n",
              " Min.   :0.0000   Min.   :0.0000         \n",
              " 1st Qu.:0.1851   1st Qu.:0.1077         \n",
              " Median :0.2478   Median :0.1640         \n",
              " Mean   :0.2633   Mean   :0.1896         \n",
              " 3rd Qu.:0.3182   3rd Qu.:0.2429         \n",
              " Max.   :1.0000   Max.   :1.0000         "
            ]
          },
          "metadata": {}
        }
      ]
    },
    {
      "cell_type": "markdown",
      "source": [
        "## 4 - Divindo em datasets de treino e teste"
      ],
      "metadata": {
        "id": "B4l9nGWgSHGD"
      }
    },
    {
      "cell_type": "code",
      "source": [
        "# Definindo seed para realizar split de dados de maneira replicável\n",
        "set.seed(50)"
      ],
      "metadata": {
        "id": "d5C3E1H8VuE7"
      },
      "execution_count": 36,
      "outputs": []
    },
    {
      "cell_type": "code",
      "source": [
        "# Realizando o split selecionando aleatoriamente 75% das linhas do dataset\n",
        "id_split = sort(sample(nrow(dataset_cancer_norm), nrow(dataset_cancer)*0.75))\n",
        "id_split"
      ],
      "metadata": {
        "colab": {
          "base_uri": "https://localhost:8080/",
          "height": 225
        },
        "id": "xPMso4jIgm0A",
        "outputId": "2cdb8fc8-8582-4d38-fd91-4586b9ebd2cb"
      },
      "execution_count": 37,
      "outputs": [
        {
          "output_type": "display_data",
          "data": {
            "text/html": [
              "<style>\n",
              ".list-inline {list-style: none; margin:0; padding: 0}\n",
              ".list-inline>li {display: inline-block}\n",
              ".list-inline>li:not(:last-child)::after {content: \"\\00b7\"; padding: 0 .5ex}\n",
              "</style>\n",
              "<ol class=list-inline><li>1</li><li>2</li><li>3</li><li>4</li><li>5</li><li>8</li><li>9</li><li>10</li><li>11</li><li>12</li><li>13</li><li>16</li><li>17</li><li>18</li><li>19</li><li>20</li><li>22</li><li>23</li><li>24</li><li>25</li><li>26</li><li>28</li><li>30</li><li>31</li><li>32</li><li>33</li><li>34</li><li>38</li><li>39</li><li>40</li><li>41</li><li>42</li><li>44</li><li>45</li><li>46</li><li>47</li><li>48</li><li>49</li><li>50</li><li>51</li><li>52</li><li>55</li><li>56</li><li>57</li><li>60</li><li>61</li><li>65</li><li>67</li><li>68</li><li>69</li><li>71</li><li>72</li><li>73</li><li>75</li><li>76</li><li>79</li><li>80</li><li>82</li><li>83</li><li>84</li><li>85</li><li>86</li><li>87</li><li>88</li><li>89</li><li>90</li><li>92</li><li>93</li><li>94</li><li>95</li><li>96</li><li>99</li><li>100</li><li>101</li><li>103</li><li>104</li><li>105</li><li>106</li><li>107</li><li>110</li><li>111</li><li>112</li><li>113</li><li>114</li><li>115</li><li>117</li><li>118</li><li>121</li><li>122</li><li>123</li><li>124</li><li>126</li><li>127</li><li>129</li><li>130</li><li>131</li><li>132</li><li>135</li><li>136</li><li>137</li><li>138</li><li>139</li><li>140</li><li>141</li><li>142</li><li>143</li><li>144</li><li>145</li><li>147</li><li>150</li><li>151</li><li>152</li><li>153</li><li>154</li><li>155</li><li>156</li><li>159</li><li>160</li><li>161</li><li>162</li><li>163</li><li>164</li><li>165</li><li>166</li><li>169</li><li>170</li><li>171</li><li>172</li><li>173</li><li>174</li><li>175</li><li>176</li><li>179</li><li>180</li><li>181</li><li>182</li><li>185</li><li>187</li><li>188</li><li>189</li><li>190</li><li>191</li><li>192</li><li>194</li><li>196</li><li>197</li><li>198</li><li>199</li><li>200</li><li>201</li><li>202</li><li>203</li><li>205</li><li>206</li><li>207</li><li>209</li><li>210</li><li>211</li><li>212</li><li>213</li><li>214</li><li>215</li><li>216</li><li>217</li><li>219</li><li>222</li><li>224</li><li>226</li><li>227</li><li>228</li><li>229</li><li>233</li><li>234</li><li>235</li><li>237</li><li>238</li><li>239</li><li>240</li><li>241</li><li>242</li><li>243</li><li>244</li><li>245</li><li>246</li><li>247</li><li>248</li><li>249</li><li>250</li><li>251</li><li>252</li><li>254</li><li>258</li><li>259</li><li>260</li><li>261</li><li>262</li><li>263</li><li>264</li><li>265</li><li>266</li><li>⋯</li><li>304</li><li>306</li><li>307</li><li>311</li><li>314</li><li>316</li><li>318</li><li>319</li><li>320</li><li>321</li><li>322</li><li>323</li><li>325</li><li>326</li><li>328</li><li>329</li><li>331</li><li>333</li><li>334</li><li>335</li><li>336</li><li>337</li><li>339</li><li>340</li><li>341</li><li>342</li><li>343</li><li>344</li><li>345</li><li>346</li><li>347</li><li>348</li><li>349</li><li>350</li><li>351</li><li>352</li><li>353</li><li>354</li><li>357</li><li>358</li><li>359</li><li>361</li><li>362</li><li>363</li><li>364</li><li>365</li><li>367</li><li>368</li><li>369</li><li>370</li><li>372</li><li>373</li><li>374</li><li>375</li><li>376</li><li>377</li><li>378</li><li>379</li><li>381</li><li>384</li><li>385</li><li>386</li><li>387</li><li>388</li><li>389</li><li>390</li><li>391</li><li>392</li><li>393</li><li>394</li><li>396</li><li>397</li><li>398</li><li>399</li><li>401</li><li>404</li><li>405</li><li>406</li><li>407</li><li>408</li><li>409</li><li>410</li><li>411</li><li>412</li><li>413</li><li>414</li><li>415</li><li>418</li><li>419</li><li>420</li><li>421</li><li>422</li><li>423</li><li>424</li><li>425</li><li>429</li><li>431</li><li>432</li><li>436</li><li>438</li><li>439</li><li>440</li><li>441</li><li>442</li><li>444</li><li>445</li><li>446</li><li>447</li><li>449</li><li>450</li><li>451</li><li>452</li><li>453</li><li>456</li><li>460</li><li>461</li><li>463</li><li>464</li><li>465</li><li>466</li><li>468</li><li>469</li><li>470</li><li>471</li><li>473</li><li>474</li><li>475</li><li>476</li><li>477</li><li>478</li><li>479</li><li>480</li><li>481</li><li>482</li><li>484</li><li>486</li><li>488</li><li>489</li><li>490</li><li>491</li><li>492</li><li>495</li><li>496</li><li>497</li><li>498</li><li>499</li><li>500</li><li>501</li><li>503</li><li>504</li><li>506</li><li>507</li><li>508</li><li>509</li><li>510</li><li>511</li><li>512</li><li>513</li><li>514</li><li>515</li><li>518</li><li>519</li><li>521</li><li>522</li><li>523</li><li>524</li><li>525</li><li>531</li><li>532</li><li>533</li><li>536</li><li>538</li><li>539</li><li>540</li><li>542</li><li>543</li><li>544</li><li>545</li><li>546</li><li>547</li><li>548</li><li>549</li><li>550</li><li>551</li><li>552</li><li>553</li><li>554</li><li>556</li><li>557</li><li>558</li><li>559</li><li>560</li><li>561</li><li>562</li><li>563</li><li>564</li><li>565</li><li>566</li><li>567</li><li>569</li></ol>\n"
            ],
            "text/markdown": "1. 1\n2. 2\n3. 3\n4. 4\n5. 5\n6. 8\n7. 9\n8. 10\n9. 11\n10. 12\n11. 13\n12. 16\n13. 17\n14. 18\n15. 19\n16. 20\n17. 22\n18. 23\n19. 24\n20. 25\n21. 26\n22. 28\n23. 30\n24. 31\n25. 32\n26. 33\n27. 34\n28. 38\n29. 39\n30. 40\n31. 41\n32. 42\n33. 44\n34. 45\n35. 46\n36. 47\n37. 48\n38. 49\n39. 50\n40. 51\n41. 52\n42. 55\n43. 56\n44. 57\n45. 60\n46. 61\n47. 65\n48. 67\n49. 68\n50. 69\n51. 71\n52. 72\n53. 73\n54. 75\n55. 76\n56. 79\n57. 80\n58. 82\n59. 83\n60. 84\n61. 85\n62. 86\n63. 87\n64. 88\n65. 89\n66. 90\n67. 92\n68. 93\n69. 94\n70. 95\n71. 96\n72. 99\n73. 100\n74. 101\n75. 103\n76. 104\n77. 105\n78. 106\n79. 107\n80. 110\n81. 111\n82. 112\n83. 113\n84. 114\n85. 115\n86. 117\n87. 118\n88. 121\n89. 122\n90. 123\n91. 124\n92. 126\n93. 127\n94. 129\n95. 130\n96. 131\n97. 132\n98. 135\n99. 136\n100. 137\n101. 138\n102. 139\n103. 140\n104. 141\n105. 142\n106. 143\n107. 144\n108. 145\n109. 147\n110. 150\n111. 151\n112. 152\n113. 153\n114. 154\n115. 155\n116. 156\n117. 159\n118. 160\n119. 161\n120. 162\n121. 163\n122. 164\n123. 165\n124. 166\n125. 169\n126. 170\n127. 171\n128. 172\n129. 173\n130. 174\n131. 175\n132. 176\n133. 179\n134. 180\n135. 181\n136. 182\n137. 185\n138. 187\n139. 188\n140. 189\n141. 190\n142. 191\n143. 192\n144. 194\n145. 196\n146. 197\n147. 198\n148. 199\n149. 200\n150. 201\n151. 202\n152. 203\n153. 205\n154. 206\n155. 207\n156. 209\n157. 210\n158. 211\n159. 212\n160. 213\n161. 214\n162. 215\n163. 216\n164. 217\n165. 219\n166. 222\n167. 224\n168. 226\n169. 227\n170. 228\n171. 229\n172. 233\n173. 234\n174. 235\n175. 237\n176. 238\n177. 239\n178. 240\n179. 241\n180. 242\n181. 243\n182. 244\n183. 245\n184. 246\n185. 247\n186. 248\n187. 249\n188. 250\n189. 251\n190. 252\n191. 254\n192. 258\n193. 259\n194. 260\n195. 261\n196. 262\n197. 263\n198. 264\n199. 265\n200. 266\n201. ⋯\n202. 304\n203. 306\n204. 307\n205. 311\n206. 314\n207. 316\n208. 318\n209. 319\n210. 320\n211. 321\n212. 322\n213. 323\n214. 325\n215. 326\n216. 328\n217. 329\n218. 331\n219. 333\n220. 334\n221. 335\n222. 336\n223. 337\n224. 339\n225. 340\n226. 341\n227. 342\n228. 343\n229. 344\n230. 345\n231. 346\n232. 347\n233. 348\n234. 349\n235. 350\n236. 351\n237. 352\n238. 353\n239. 354\n240. 357\n241. 358\n242. 359\n243. 361\n244. 362\n245. 363\n246. 364\n247. 365\n248. 367\n249. 368\n250. 369\n251. 370\n252. 372\n253. 373\n254. 374\n255. 375\n256. 376\n257. 377\n258. 378\n259. 379\n260. 381\n261. 384\n262. 385\n263. 386\n264. 387\n265. 388\n266. 389\n267. 390\n268. 391\n269. 392\n270. 393\n271. 394\n272. 396\n273. 397\n274. 398\n275. 399\n276. 401\n277. 404\n278. 405\n279. 406\n280. 407\n281. 408\n282. 409\n283. 410\n284. 411\n285. 412\n286. 413\n287. 414\n288. 415\n289. 418\n290. 419\n291. 420\n292. 421\n293. 422\n294. 423\n295. 424\n296. 425\n297. 429\n298. 431\n299. 432\n300. 436\n301. 438\n302. 439\n303. 440\n304. 441\n305. 442\n306. 444\n307. 445\n308. 446\n309. 447\n310. 449\n311. 450\n312. 451\n313. 452\n314. 453\n315. 456\n316. 460\n317. 461\n318. 463\n319. 464\n320. 465\n321. 466\n322. 468\n323. 469\n324. 470\n325. 471\n326. 473\n327. 474\n328. 475\n329. 476\n330. 477\n331. 478\n332. 479\n333. 480\n334. 481\n335. 482\n336. 484\n337. 486\n338. 488\n339. 489\n340. 490\n341. 491\n342. 492\n343. 495\n344. 496\n345. 497\n346. 498\n347. 499\n348. 500\n349. 501\n350. 503\n351. 504\n352. 506\n353. 507\n354. 508\n355. 509\n356. 510\n357. 511\n358. 512\n359. 513\n360. 514\n361. 515\n362. 518\n363. 519\n364. 521\n365. 522\n366. 523\n367. 524\n368. 525\n369. 531\n370. 532\n371. 533\n372. 536\n373. 538\n374. 539\n375. 540\n376. 542\n377. 543\n378. 544\n379. 545\n380. 546\n381. 547\n382. 548\n383. 549\n384. 550\n385. 551\n386. 552\n387. 553\n388. 554\n389. 556\n390. 557\n391. 558\n392. 559\n393. 560\n394. 561\n395. 562\n396. 563\n397. 564\n398. 565\n399. 566\n400. 567\n401. 569\n\n\n",
            "text/latex": "\\begin{enumerate*}\n\\item 1\n\\item 2\n\\item 3\n\\item 4\n\\item 5\n\\item 8\n\\item 9\n\\item 10\n\\item 11\n\\item 12\n\\item 13\n\\item 16\n\\item 17\n\\item 18\n\\item 19\n\\item 20\n\\item 22\n\\item 23\n\\item 24\n\\item 25\n\\item 26\n\\item 28\n\\item 30\n\\item 31\n\\item 32\n\\item 33\n\\item 34\n\\item 38\n\\item 39\n\\item 40\n\\item 41\n\\item 42\n\\item 44\n\\item 45\n\\item 46\n\\item 47\n\\item 48\n\\item 49\n\\item 50\n\\item 51\n\\item 52\n\\item 55\n\\item 56\n\\item 57\n\\item 60\n\\item 61\n\\item 65\n\\item 67\n\\item 68\n\\item 69\n\\item 71\n\\item 72\n\\item 73\n\\item 75\n\\item 76\n\\item 79\n\\item 80\n\\item 82\n\\item 83\n\\item 84\n\\item 85\n\\item 86\n\\item 87\n\\item 88\n\\item 89\n\\item 90\n\\item 92\n\\item 93\n\\item 94\n\\item 95\n\\item 96\n\\item 99\n\\item 100\n\\item 101\n\\item 103\n\\item 104\n\\item 105\n\\item 106\n\\item 107\n\\item 110\n\\item 111\n\\item 112\n\\item 113\n\\item 114\n\\item 115\n\\item 117\n\\item 118\n\\item 121\n\\item 122\n\\item 123\n\\item 124\n\\item 126\n\\item 127\n\\item 129\n\\item 130\n\\item 131\n\\item 132\n\\item 135\n\\item 136\n\\item 137\n\\item 138\n\\item 139\n\\item 140\n\\item 141\n\\item 142\n\\item 143\n\\item 144\n\\item 145\n\\item 147\n\\item 150\n\\item 151\n\\item 152\n\\item 153\n\\item 154\n\\item 155\n\\item 156\n\\item 159\n\\item 160\n\\item 161\n\\item 162\n\\item 163\n\\item 164\n\\item 165\n\\item 166\n\\item 169\n\\item 170\n\\item 171\n\\item 172\n\\item 173\n\\item 174\n\\item 175\n\\item 176\n\\item 179\n\\item 180\n\\item 181\n\\item 182\n\\item 185\n\\item 187\n\\item 188\n\\item 189\n\\item 190\n\\item 191\n\\item 192\n\\item 194\n\\item 196\n\\item 197\n\\item 198\n\\item 199\n\\item 200\n\\item 201\n\\item 202\n\\item 203\n\\item 205\n\\item 206\n\\item 207\n\\item 209\n\\item 210\n\\item 211\n\\item 212\n\\item 213\n\\item 214\n\\item 215\n\\item 216\n\\item 217\n\\item 219\n\\item 222\n\\item 224\n\\item 226\n\\item 227\n\\item 228\n\\item 229\n\\item 233\n\\item 234\n\\item 235\n\\item 237\n\\item 238\n\\item 239\n\\item 240\n\\item 241\n\\item 242\n\\item 243\n\\item 244\n\\item 245\n\\item 246\n\\item 247\n\\item 248\n\\item 249\n\\item 250\n\\item 251\n\\item 252\n\\item 254\n\\item 258\n\\item 259\n\\item 260\n\\item 261\n\\item 262\n\\item 263\n\\item 264\n\\item 265\n\\item 266\n\\item ⋯\n\\item 304\n\\item 306\n\\item 307\n\\item 311\n\\item 314\n\\item 316\n\\item 318\n\\item 319\n\\item 320\n\\item 321\n\\item 322\n\\item 323\n\\item 325\n\\item 326\n\\item 328\n\\item 329\n\\item 331\n\\item 333\n\\item 334\n\\item 335\n\\item 336\n\\item 337\n\\item 339\n\\item 340\n\\item 341\n\\item 342\n\\item 343\n\\item 344\n\\item 345\n\\item 346\n\\item 347\n\\item 348\n\\item 349\n\\item 350\n\\item 351\n\\item 352\n\\item 353\n\\item 354\n\\item 357\n\\item 358\n\\item 359\n\\item 361\n\\item 362\n\\item 363\n\\item 364\n\\item 365\n\\item 367\n\\item 368\n\\item 369\n\\item 370\n\\item 372\n\\item 373\n\\item 374\n\\item 375\n\\item 376\n\\item 377\n\\item 378\n\\item 379\n\\item 381\n\\item 384\n\\item 385\n\\item 386\n\\item 387\n\\item 388\n\\item 389\n\\item 390\n\\item 391\n\\item 392\n\\item 393\n\\item 394\n\\item 396\n\\item 397\n\\item 398\n\\item 399\n\\item 401\n\\item 404\n\\item 405\n\\item 406\n\\item 407\n\\item 408\n\\item 409\n\\item 410\n\\item 411\n\\item 412\n\\item 413\n\\item 414\n\\item 415\n\\item 418\n\\item 419\n\\item 420\n\\item 421\n\\item 422\n\\item 423\n\\item 424\n\\item 425\n\\item 429\n\\item 431\n\\item 432\n\\item 436\n\\item 438\n\\item 439\n\\item 440\n\\item 441\n\\item 442\n\\item 444\n\\item 445\n\\item 446\n\\item 447\n\\item 449\n\\item 450\n\\item 451\n\\item 452\n\\item 453\n\\item 456\n\\item 460\n\\item 461\n\\item 463\n\\item 464\n\\item 465\n\\item 466\n\\item 468\n\\item 469\n\\item 470\n\\item 471\n\\item 473\n\\item 474\n\\item 475\n\\item 476\n\\item 477\n\\item 478\n\\item 479\n\\item 480\n\\item 481\n\\item 482\n\\item 484\n\\item 486\n\\item 488\n\\item 489\n\\item 490\n\\item 491\n\\item 492\n\\item 495\n\\item 496\n\\item 497\n\\item 498\n\\item 499\n\\item 500\n\\item 501\n\\item 503\n\\item 504\n\\item 506\n\\item 507\n\\item 508\n\\item 509\n\\item 510\n\\item 511\n\\item 512\n\\item 513\n\\item 514\n\\item 515\n\\item 518\n\\item 519\n\\item 521\n\\item 522\n\\item 523\n\\item 524\n\\item 525\n\\item 531\n\\item 532\n\\item 533\n\\item 536\n\\item 538\n\\item 539\n\\item 540\n\\item 542\n\\item 543\n\\item 544\n\\item 545\n\\item 546\n\\item 547\n\\item 548\n\\item 549\n\\item 550\n\\item 551\n\\item 552\n\\item 553\n\\item 554\n\\item 556\n\\item 557\n\\item 558\n\\item 559\n\\item 560\n\\item 561\n\\item 562\n\\item 563\n\\item 564\n\\item 565\n\\item 566\n\\item 567\n\\item 569\n\\end{enumerate*}\n",
            "text/plain": [
              "  [1]   1   2   3   4   5   8   9  10  11  12  13  16  17  18  19  20  22  23\n",
              " [19]  24  25  26  28  30  31  32  33  34  38  39  40  41  42  44  45  46  47\n",
              " [37]  48  49  50  51  52  55  56  57  60  61  65  67  68  69  71  72  73  75\n",
              " [55]  76  79  80  82  83  84  85  86  87  88  89  90  92  93  94  95  96  99\n",
              " [73] 100 101 103 104 105 106 107 110 111 112 113 114 115 117 118 121 122 123\n",
              " [91] 124 126 127 129 130 131 132 135 136 137 138 139 140 141 142 143 144 145\n",
              "[109] 147 150 151 152 153 154 155 156 159 160 161 162 163 164 165 166 169 170\n",
              "[127] 171 172 173 174 175 176 179 180 181 182 185 187 188 189 190 191 192 194\n",
              "[145] 196 197 198 199 200 201 202 203 205 206 207 209 210 211 212 213 214 215\n",
              "[163] 216 217 219 222 224 226 227 228 229 233 234 235 237 238 239 240 241 242\n",
              "[181] 243 244 245 246 247 248 249 250 251 252 254 258 259 260 261 262 263 264\n",
              "[199] 265 266 267 270 271 272 273 274 275 277 279 280 281 282 284 285 286 287\n",
              "[217] 288 289 290 292 294 296 300 301 302 303 304 306 307 311 314 316 318 319\n",
              "[235] 320 321 322 323 325 326 328 329 331 333 334 335 336 337 339 340 341 342\n",
              "[253] 343 344 345 346 347 348 349 350 351 352 353 354 357 358 359 361 362 363\n",
              "[271] 364 365 367 368 369 370 372 373 374 375 376 377 378 379 381 384 385 386\n",
              "[289] 387 388 389 390 391 392 393 394 396 397 398 399 401 404 405 406 407 408\n",
              "[307] 409 410 411 412 413 414 415 418 419 420 421 422 423 424 425 429 431 432\n",
              "[325] 436 438 439 440 441 442 444 445 446 447 449 450 451 452 453 456 460 461\n",
              "[343] 463 464 465 466 468 469 470 471 473 474 475 476 477 478 479 480 481 482\n",
              "[361] 484 486 488 489 490 491 492 495 496 497 498 499 500 501 503 504 506 507\n",
              "[379] 508 509 510 511 512 513 514 515 518 519 521 522 523 524 525 531 532 533\n",
              "[397] 536 538 539 540 542 543 544 545 546 547 548 549 550 551 552 553 554 556\n",
              "[415] 557 558 559 560 561 562 563 564 565 566 567 569"
            ]
          },
          "metadata": {}
        }
      ]
    },
    {
      "cell_type": "code",
      "source": [
        "# Definindo dataset de features para treino e teste\n",
        "features = dataset_cancer_norm\n",
        "features_train = features[id_split,]\n",
        "features_test = features[-id_split,]"
      ],
      "metadata": {
        "id": "1x82MXu5g-n_"
      },
      "execution_count": 41,
      "outputs": []
    },
    {
      "cell_type": "code",
      "source": [
        "# Definindo vetor de targets para treino e teste\n",
        "targets = dataset_cancer[1]\n",
        "targets_train = targets[id_split,]\n",
        "targets_test = targets[-id_split,]"
      ],
      "metadata": {
        "id": "-fvwBHnKheJd"
      },
      "execution_count": 46,
      "outputs": []
    },
    {
      "cell_type": "markdown",
      "source": [
        "Só lembrando que em R um valor em branco na hora de selecionar uma `[linha, coluna]` indica que todas as linhas ou colunas devem ser incluídas."
      ],
      "metadata": {
        "id": "I5KpjWDFi7P1"
      }
    },
    {
      "cell_type": "markdown",
      "source": [
        "## 5 - Treinando e usando o modelo"
      ],
      "metadata": {
        "id": "NLwzu13mjQ82"
      }
    },
    {
      "cell_type": "code",
      "source": [
        "# Instalando pacote que possui o modelo knn implementado\n",
        "install.packages(\"class\")"
      ],
      "metadata": {
        "colab": {
          "base_uri": "https://localhost:8080/"
        },
        "id": "TEI0GbLLjTWb",
        "outputId": "a2da5834-6158-4f40-c51c-f7bf33a5fcc4"
      },
      "execution_count": 48,
      "outputs": [
        {
          "output_type": "stream",
          "name": "stderr",
          "text": [
            "Installing package into ‘/usr/local/lib/R/site-library’\n",
            "(as ‘lib’ is unspecified)\n",
            "\n"
          ]
        }
      ]
    },
    {
      "cell_type": "code",
      "source": [
        "# Carregando a biblioteca\n",
        "library(\"class\")"
      ],
      "metadata": {
        "id": "sbI7sLlYkAbD"
      },
      "execution_count": 53,
      "outputs": []
    },
    {
      "cell_type": "code",
      "source": [
        "# Treinando o modelo\n",
        "# A distância usada no cálculo desse knn é a euclideana\n",
        "cancer_pred <- knn(train = features_train, test = features_test, cl = targets_train, k = 7)"
      ],
      "metadata": {
        "id": "-lZ3RbAZkGHj"
      },
      "execution_count": 54,
      "outputs": []
    },
    {
      "cell_type": "markdown",
      "source": [
        "A função `knn` devolve um vetor com os valores preditos pelo modelo construído com as features e targets de treino passados para os dados de teste também passados como parâmetro. "
      ],
      "metadata": {
        "id": "89lWkkkLlA_F"
      }
    },
    {
      "cell_type": "code",
      "source": [
        "cancer_pred"
      ],
      "metadata": {
        "colab": {
          "base_uri": "https://localhost:8080/",
          "height": 174
        },
        "id": "YFF2ltlMktMW",
        "outputId": "0cb8bbb1-5d53-48a0-b306-f959cd7bee5e"
      },
      "execution_count": 55,
      "outputs": [
        {
          "output_type": "display_data",
          "data": {
            "text/html": [
              "<style>\n",
              ".list-inline {list-style: none; margin:0; padding: 0}\n",
              ".list-inline>li {display: inline-block}\n",
              ".list-inline>li:not(:last-child)::after {content: \"\\00b7\"; padding: 0 .5ex}\n",
              "</style>\n",
              "<ol class=list-inline><li>Maligno</li><li>Maligno</li><li>Maligno</li><li>Maligno</li><li>Benigno</li><li>Maligno</li><li>Maligno</li><li>Maligno</li><li>Maligno</li><li>Maligno</li><li>Maligno</li><li>Benigno</li><li>Maligno</li><li>Maligno</li><li>Benigno</li><li>Benigno</li><li>Maligno</li><li>Benigno</li><li>Maligno</li><li>Benigno</li><li>Benigno</li><li>Benigno</li><li>Maligno</li><li>Benigno</li><li>Benigno</li><li>Benigno</li><li>Benigno</li><li>Benigno</li><li>Benigno</li><li>Maligno</li><li>Benigno</li><li>Maligno</li><li>Maligno</li><li>Benigno</li><li>Maligno</li><li>Maligno</li><li>Benigno</li><li>Benigno</li><li>Benigno</li><li>Benigno</li><li>Maligno</li><li>Benigno</li><li>Benigno</li><li>Maligno</li><li>Benigno</li><li>Maligno</li><li>Maligno</li><li>Benigno</li><li>Benigno</li><li>Benigno</li><li>Maligno</li><li>Maligno</li><li>Maligno</li><li>Benigno</li><li>Maligno</li><li>Benigno</li><li>Benigno</li><li>Benigno</li><li>Maligno</li><li>Maligno</li><li>Benigno</li><li>Benigno</li><li>Maligno</li><li>Maligno</li><li>Benigno</li><li>Maligno</li><li>Benigno</li><li>Benigno</li><li>Benigno</li><li>Maligno</li><li>Maligno</li><li>Benigno</li><li>Benigno</li><li>Benigno</li><li>Benigno</li><li>Benigno</li><li>Benigno</li><li>Benigno</li><li>Benigno</li><li>Benigno</li><li>Benigno</li><li>Benigno</li><li>Benigno</li><li>Benigno</li><li>Benigno</li><li>Maligno</li><li>Benigno</li><li>Maligno</li><li>Benigno</li><li>Maligno</li><li>Benigno</li><li>Benigno</li><li>Benigno</li><li>Maligno</li><li>Maligno</li><li>Maligno</li><li>Benigno</li><li>Benigno</li><li>Benigno</li><li>Benigno</li><li>Benigno</li><li>Benigno</li><li>Benigno</li><li>Benigno</li><li>Benigno</li><li>Benigno</li><li>Benigno</li><li>Benigno</li><li>Maligno</li><li>Maligno</li><li>Benigno</li><li>Benigno</li><li>Benigno</li><li>Benigno</li><li>Benigno</li><li>Benigno</li><li>Benigno</li><li>Benigno</li><li>Benigno</li><li>Maligno</li><li>Benigno</li><li>Benigno</li><li>Benigno</li><li>Benigno</li><li>Benigno</li><li>Maligno</li><li>Benigno</li><li>Maligno</li><li>Benigno</li><li>Benigno</li><li>Maligno</li><li>Benigno</li><li>Benigno</li><li>Benigno</li><li>Benigno</li><li>Benigno</li><li>Benigno</li><li>Maligno</li><li>Benigno</li><li>Maligno</li><li>Benigno</li><li>Benigno</li><li>Maligno</li></ol>\n",
              "\n",
              "<details>\n",
              "\t<summary style=display:list-item;cursor:pointer>\n",
              "\t\t<strong>Levels</strong>:\n",
              "\t</summary>\n",
              "\t<style>\n",
              "\t.list-inline {list-style: none; margin:0; padding: 0}\n",
              "\t.list-inline>li {display: inline-block}\n",
              "\t.list-inline>li:not(:last-child)::after {content: \"\\00b7\"; padding: 0 .5ex}\n",
              "\t</style>\n",
              "\t<ol class=list-inline><li>'Benigno'</li><li>'Maligno'</li></ol>\n",
              "</details>"
            ],
            "text/markdown": "1. Maligno\n2. Maligno\n3. Maligno\n4. Maligno\n5. Benigno\n6. Maligno\n7. Maligno\n8. Maligno\n9. Maligno\n10. Maligno\n11. Maligno\n12. Benigno\n13. Maligno\n14. Maligno\n15. Benigno\n16. Benigno\n17. Maligno\n18. Benigno\n19. Maligno\n20. Benigno\n21. Benigno\n22. Benigno\n23. Maligno\n24. Benigno\n25. Benigno\n26. Benigno\n27. Benigno\n28. Benigno\n29. Benigno\n30. Maligno\n31. Benigno\n32. Maligno\n33. Maligno\n34. Benigno\n35. Maligno\n36. Maligno\n37. Benigno\n38. Benigno\n39. Benigno\n40. Benigno\n41. Maligno\n42. Benigno\n43. Benigno\n44. Maligno\n45. Benigno\n46. Maligno\n47. Maligno\n48. Benigno\n49. Benigno\n50. Benigno\n51. Maligno\n52. Maligno\n53. Maligno\n54. Benigno\n55. Maligno\n56. Benigno\n57. Benigno\n58. Benigno\n59. Maligno\n60. Maligno\n61. Benigno\n62. Benigno\n63. Maligno\n64. Maligno\n65. Benigno\n66. Maligno\n67. Benigno\n68. Benigno\n69. Benigno\n70. Maligno\n71. Maligno\n72. Benigno\n73. Benigno\n74. Benigno\n75. Benigno\n76. Benigno\n77. Benigno\n78. Benigno\n79. Benigno\n80. Benigno\n81. Benigno\n82. Benigno\n83. Benigno\n84. Benigno\n85. Benigno\n86. Maligno\n87. Benigno\n88. Maligno\n89. Benigno\n90. Maligno\n91. Benigno\n92. Benigno\n93. Benigno\n94. Maligno\n95. Maligno\n96. Maligno\n97. Benigno\n98. Benigno\n99. Benigno\n100. Benigno\n101. Benigno\n102. Benigno\n103. Benigno\n104. Benigno\n105. Benigno\n106. Benigno\n107. Benigno\n108. Benigno\n109. Maligno\n110. Maligno\n111. Benigno\n112. Benigno\n113. Benigno\n114. Benigno\n115. Benigno\n116. Benigno\n117. Benigno\n118. Benigno\n119. Benigno\n120. Maligno\n121. Benigno\n122. Benigno\n123. Benigno\n124. Benigno\n125. Benigno\n126. Maligno\n127. Benigno\n128. Maligno\n129. Benigno\n130. Benigno\n131. Maligno\n132. Benigno\n133. Benigno\n134. Benigno\n135. Benigno\n136. Benigno\n137. Benigno\n138. Maligno\n139. Benigno\n140. Maligno\n141. Benigno\n142. Benigno\n143. Maligno\n\n\n\n**Levels**: 1. 'Benigno'\n2. 'Maligno'\n\n\n",
            "text/latex": "\\begin{enumerate*}\n\\item Maligno\n\\item Maligno\n\\item Maligno\n\\item Maligno\n\\item Benigno\n\\item Maligno\n\\item Maligno\n\\item Maligno\n\\item Maligno\n\\item Maligno\n\\item Maligno\n\\item Benigno\n\\item Maligno\n\\item Maligno\n\\item Benigno\n\\item Benigno\n\\item Maligno\n\\item Benigno\n\\item Maligno\n\\item Benigno\n\\item Benigno\n\\item Benigno\n\\item Maligno\n\\item Benigno\n\\item Benigno\n\\item Benigno\n\\item Benigno\n\\item Benigno\n\\item Benigno\n\\item Maligno\n\\item Benigno\n\\item Maligno\n\\item Maligno\n\\item Benigno\n\\item Maligno\n\\item Maligno\n\\item Benigno\n\\item Benigno\n\\item Benigno\n\\item Benigno\n\\item Maligno\n\\item Benigno\n\\item Benigno\n\\item Maligno\n\\item Benigno\n\\item Maligno\n\\item Maligno\n\\item Benigno\n\\item Benigno\n\\item Benigno\n\\item Maligno\n\\item Maligno\n\\item Maligno\n\\item Benigno\n\\item Maligno\n\\item Benigno\n\\item Benigno\n\\item Benigno\n\\item Maligno\n\\item Maligno\n\\item Benigno\n\\item Benigno\n\\item Maligno\n\\item Maligno\n\\item Benigno\n\\item Maligno\n\\item Benigno\n\\item Benigno\n\\item Benigno\n\\item Maligno\n\\item Maligno\n\\item Benigno\n\\item Benigno\n\\item Benigno\n\\item Benigno\n\\item Benigno\n\\item Benigno\n\\item Benigno\n\\item Benigno\n\\item Benigno\n\\item Benigno\n\\item Benigno\n\\item Benigno\n\\item Benigno\n\\item Benigno\n\\item Maligno\n\\item Benigno\n\\item Maligno\n\\item Benigno\n\\item Maligno\n\\item Benigno\n\\item Benigno\n\\item Benigno\n\\item Maligno\n\\item Maligno\n\\item Maligno\n\\item Benigno\n\\item Benigno\n\\item Benigno\n\\item Benigno\n\\item Benigno\n\\item Benigno\n\\item Benigno\n\\item Benigno\n\\item Benigno\n\\item Benigno\n\\item Benigno\n\\item Benigno\n\\item Maligno\n\\item Maligno\n\\item Benigno\n\\item Benigno\n\\item Benigno\n\\item Benigno\n\\item Benigno\n\\item Benigno\n\\item Benigno\n\\item Benigno\n\\item Benigno\n\\item Maligno\n\\item Benigno\n\\item Benigno\n\\item Benigno\n\\item Benigno\n\\item Benigno\n\\item Maligno\n\\item Benigno\n\\item Maligno\n\\item Benigno\n\\item Benigno\n\\item Maligno\n\\item Benigno\n\\item Benigno\n\\item Benigno\n\\item Benigno\n\\item Benigno\n\\item Benigno\n\\item Maligno\n\\item Benigno\n\\item Maligno\n\\item Benigno\n\\item Benigno\n\\item Maligno\n\\end{enumerate*}\n\n\\emph{Levels}: \\begin{enumerate*}\n\\item 'Benigno'\n\\item 'Maligno'\n\\end{enumerate*}\n",
            "text/plain": [
              "  [1] Maligno Maligno Maligno Maligno Benigno Maligno Maligno Maligno Maligno\n",
              " [10] Maligno Maligno Benigno Maligno Maligno Benigno Benigno Maligno Benigno\n",
              " [19] Maligno Benigno Benigno Benigno Maligno Benigno Benigno Benigno Benigno\n",
              " [28] Benigno Benigno Maligno Benigno Maligno Maligno Benigno Maligno Maligno\n",
              " [37] Benigno Benigno Benigno Benigno Maligno Benigno Benigno Maligno Benigno\n",
              " [46] Maligno Maligno Benigno Benigno Benigno Maligno Maligno Maligno Benigno\n",
              " [55] Maligno Benigno Benigno Benigno Maligno Maligno Benigno Benigno Maligno\n",
              " [64] Maligno Benigno Maligno Benigno Benigno Benigno Maligno Maligno Benigno\n",
              " [73] Benigno Benigno Benigno Benigno Benigno Benigno Benigno Benigno Benigno\n",
              " [82] Benigno Benigno Benigno Benigno Maligno Benigno Maligno Benigno Maligno\n",
              " [91] Benigno Benigno Benigno Maligno Maligno Maligno Benigno Benigno Benigno\n",
              "[100] Benigno Benigno Benigno Benigno Benigno Benigno Benigno Benigno Benigno\n",
              "[109] Maligno Maligno Benigno Benigno Benigno Benigno Benigno Benigno Benigno\n",
              "[118] Benigno Benigno Maligno Benigno Benigno Benigno Benigno Benigno Maligno\n",
              "[127] Benigno Maligno Benigno Benigno Maligno Benigno Benigno Benigno Benigno\n",
              "[136] Benigno Benigno Maligno Benigno Maligno Benigno Benigno Maligno\n",
              "Levels: Benigno Maligno"
            ]
          },
          "metadata": {}
        }
      ]
    },
    {
      "cell_type": "markdown",
      "source": [
        "## 6 - Avaliando o modelo"
      ],
      "metadata": {
        "id": "EQgw_ctBluwZ"
      }
    },
    {
      "cell_type": "code",
      "source": [
        "# Instalando pacote com métricas de avaliação\n",
        "install.packages(\"gmodels\")"
      ],
      "metadata": {
        "colab": {
          "base_uri": "https://localhost:8080/"
        },
        "id": "PN4j-Oc7l3gb",
        "outputId": "c37966ad-3a01-4f49-d1b1-aa32a5bfc546"
      },
      "execution_count": 56,
      "outputs": [
        {
          "output_type": "stream",
          "name": "stderr",
          "text": [
            "Installing package into ‘/usr/local/lib/R/site-library’\n",
            "(as ‘lib’ is unspecified)\n",
            "\n",
            "also installing the dependencies ‘gtools’, ‘gdata’\n",
            "\n",
            "\n"
          ]
        }
      ]
    },
    {
      "cell_type": "code",
      "source": [
        "# Importando o pacote\n",
        "library(gmodels)"
      ],
      "metadata": {
        "id": "Q3rfnWWFmavM"
      },
      "execution_count": 57,
      "outputs": []
    },
    {
      "cell_type": "code",
      "source": [
        "# Avaliando através de matriz de confusão\n",
        "CrossTable(x = targets_test, y = cancer_pred, prop.chisq = FALSE)"
      ],
      "metadata": {
        "colab": {
          "base_uri": "https://localhost:8080/"
        },
        "id": "QrVq7_jlmj_b",
        "outputId": "93f49509-bc56-4bb0-a7ec-90b6b59db0dd"
      },
      "execution_count": 58,
      "outputs": [
        {
          "output_type": "stream",
          "name": "stdout",
          "text": [
            "\n",
            " \n",
            "   Cell Contents\n",
            "|-------------------------|\n",
            "|                       N |\n",
            "|           N / Row Total |\n",
            "|           N / Col Total |\n",
            "|         N / Table Total |\n",
            "|-------------------------|\n",
            "\n",
            " \n",
            "Total Observations in Table:  143 \n",
            "\n",
            " \n",
            "             | cancer_pred \n",
            "targets_test |   Benigno |   Maligno | Row Total | \n",
            "-------------|-----------|-----------|-----------|\n",
            "     Benigno |        90 |         0 |        90 | \n",
            "             |     1.000 |     0.000 |     0.629 | \n",
            "             |     0.968 |     0.000 |           | \n",
            "             |     0.629 |     0.000 |           | \n",
            "-------------|-----------|-----------|-----------|\n",
            "     Maligno |         3 |        50 |        53 | \n",
            "             |     0.057 |     0.943 |     0.371 | \n",
            "             |     0.032 |     1.000 |           | \n",
            "             |     0.021 |     0.350 |           | \n",
            "-------------|-----------|-----------|-----------|\n",
            "Column Total |        93 |        50 |       143 | \n",
            "             |     0.650 |     0.350 |           | \n",
            "-------------|-----------|-----------|-----------|\n",
            "\n",
            " \n"
          ]
        }
      ]
    }
  ]
}